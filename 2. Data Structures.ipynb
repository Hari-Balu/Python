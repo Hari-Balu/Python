{
 "cells": [
  {
   "cell_type": "markdown",
   "id": "bf4ac5cd-1a7e-43df-a41b-5eae47c7088f",
   "metadata": {},
   "source": [
    "# Data Structures"
   ]
  },
  {
   "cell_type": "raw",
   "id": "427d133e-bf9b-4357-b5cf-6503107dbc80",
   "metadata": {},
   "source": [
    "A data structure is a way to organize, manage, and store data so it can be used efficiently.\n",
    "\n",
    "Python provides several built-in data structures that help you handle different kinds of data in different ways — some are simple, others are more advanced."
   ]
  },
  {
   "cell_type": "markdown",
   "id": "bd1e5cac-8b4d-4a04-b0c5-87f8d60aee6b",
   "metadata": {},
   "source": [
    "### Types of Data Structures"
   ]
  },
  {
   "cell_type": "raw",
   "id": "eb32cd2f-7f2f-4956-8fb6-e653954db090",
   "metadata": {},
   "source": [
    "Data Structure               \tDescription\t                        Example\n",
    "--------------                 -------------                       ---------\n",
    "\n",
    "List\t              Ordered, mutable, allows duplicates\t       [1, 2, 3]              \n",
    "Tuple\t              Ordered, immutable, allows duplicates\t       (1, 2, 3)\n",
    "Set\t                  Unordered, mutable, no duplicates\t           {1, 2, 3}\n",
    "Dictionary\t          Unordered, mutable, key-value pairs\t       {\"a\": 1, \"b\": 2}\n",
    "String\t              Ordered sequence of characters, immutable    \"hello\"\n",
    "\n",
    "\n",
    "# list          []               ---- Square Brackets\n",
    "# set           {,}              ---- Curly Braces\n",
    "# Dictionaries  { Key : Value }  ---- Curly Braces with Colon\n",
    "# tuple         ()               ---- Open & Close Brackets\n",
    "# String        \"\"               ---- Single or Double Quotes"
   ]
  },
  {
   "cell_type": "code",
   "execution_count": 47,
   "id": "4765f3f8-37e2-4327-92f4-45c39e82ba63",
   "metadata": {},
   "outputs": [
    {
     "name": "stdout",
     "output_type": "stream",
     "text": [
      "<class 'list'>\n",
      "<class 'tuple'>\n",
      "<class 'set'>\n",
      "<class 'dict'>\n",
      "<class 'str'>\n"
     ]
    }
   ],
   "source": [
    "a = [1, 2, 3]\n",
    "b = (1, 2, 3)\n",
    "c = {1, 2, 3}\n",
    "d = {\"Password\": 12345}\n",
    "e = \"hello\"\n",
    "\n",
    "print(type(a))\n",
    "print(type(b))\n",
    "print(type(c))\n",
    "print(type(d))\n",
    "print(type(e))"
   ]
  },
  {
   "cell_type": "code",
   "execution_count": null,
   "id": "586e7a1c-cc91-43e2-aeb5-f85b47fa8626",
   "metadata": {},
   "outputs": [],
   "source": []
  },
  {
   "cell_type": "markdown",
   "id": "ff9a17c9-d1c0-49ce-a6b0-2fc9f66885af",
   "metadata": {},
   "source": [
    "# 1. LIST"
   ]
  },
  {
   "cell_type": "raw",
   "id": "b2b0d9e0-3532-41ea-9d51-32a77b1ca524",
   "metadata": {},
   "source": [
    "A list is an ordered, mutable collection of items.\n",
    "\n",
    "Ordered → Items have a fixed position (can access by index)\n",
    "\n",
    "Mutable → You can add, remove, or change items\n",
    "\n",
    "Can contain any type of data (numbers, strings, other lists, etc.)\n",
    "\n",
    "👉 Think of it like a shopping list — you can add, remove, and rearrange items."
   ]
  },
  {
   "cell_type": "code",
   "execution_count": 49,
   "id": "f2ee76ea-8735-443c-ae09-55d47c6580a1",
   "metadata": {},
   "outputs": [
    {
     "name": "stdout",
     "output_type": "stream",
     "text": [
      "['__add__', '__class__', '__class_getitem__', '__contains__', '__delattr__', '__delitem__', '__dir__', '__doc__', '__eq__', '__format__', '__ge__', '__getattribute__', '__getitem__', '__getstate__', '__gt__', '__hash__', '__iadd__', '__imul__', '__init__', '__init_subclass__', '__iter__', '__le__', '__len__', '__lt__', '__mul__', '__ne__', '__new__', '__reduce__', '__reduce_ex__', '__repr__', '__reversed__', '__rmul__', '__setattr__', '__setitem__', '__sizeof__', '__str__', '__subclasshook__', 'append', 'clear', 'copy', 'count', 'extend', 'index', 'insert', 'pop', 'remove', 'reverse', 'sort']\n"
     ]
    }
   ],
   "source": [
    "# To see the List Functions\n",
    "\n",
    "print (dir(list))"
   ]
  },
  {
   "cell_type": "code",
   "execution_count": 22,
   "id": "355884fc-6589-40f2-9a20-f7f194adc393",
   "metadata": {},
   "outputs": [
    {
     "name": "stdout",
     "output_type": "stream",
     "text": [
      "['apple', 'banana', 'cherry', 'kiwi', 'Orange']\n"
     ]
    }
   ],
   "source": [
    "# Create a List\n",
    "\n",
    "Fruits = ['apple', 'banana', 'cherry', 'kiwi', 'Orange']\n",
    "\n",
    "# Access a List\n",
    "\n",
    "print(Fruits)"
   ]
  },
  {
   "cell_type": "code",
   "execution_count": 36,
   "id": "ae01ab2a-6d46-49b1-84d0-42cc0c61eec2",
   "metadata": {},
   "outputs": [
    {
     "name": "stdout",
     "output_type": "stream",
     "text": [
      "[1, 2, 3, 4, 5, 6, 7, [4, 5, 6, 7]]\n",
      "8\n",
      "[1, 2, 3, 4, 5, 6, 7, 9]\n",
      "8\n"
     ]
    }
   ],
   "source": [
    "# APPEND \n",
    "\n",
    "# Syntax: list_name.append (Another List) or append (value)\n",
    "\n",
    "# Multiple values (considered as a single value)\n",
    "\n",
    "a = [1, 2, 3, 4, 5, 6, 7]\n",
    "b = [4, 5, 6, 7]\n",
    "\n",
    "a.append(b)                   \n",
    "print(a)\n",
    "\n",
    "print(len(a))\n",
    "\n",
    "\n",
    "\n",
    "# With a single value\n",
    "\n",
    "a = [1, 2, 3, 4, 5, 6, 7]\n",
    "\n",
    "a.append(9)                   \n",
    "print(a)\n",
    "\n",
    "print(len(a))"
   ]
  },
  {
   "cell_type": "code",
   "execution_count": 42,
   "id": "9500f546-a2ae-44b9-8f67-3ec9f23ee71d",
   "metadata": {},
   "outputs": [
    {
     "name": "stdout",
     "output_type": "stream",
     "text": [
      "[1, 2, 3, 4, 5, 6, 7, 4, 5, 6, 7]\n",
      "11\n",
      "[1, 2, 3, 4, 5, 6, 7, 9]\n",
      "8\n"
     ]
    }
   ],
   "source": [
    "# EXTEND\n",
    "\n",
    "# Syntax: list_name.extend (Another List) or extend ([value])\n",
    "\n",
    "# Multiple values \n",
    "\n",
    "a = [1, 2, 3, 4, 5, 6, 7]\n",
    "b = [4, 5, 6, 7]\n",
    "\n",
    "a.extend(b)                   \n",
    "print(a)\n",
    "\n",
    "print(len(a))\n",
    "\n",
    "\n",
    "\n",
    "# With a single value (Passed as a list)\n",
    "\n",
    "a = [1, 2, 3, 4, 5, 6, 7]\n",
    "\n",
    "a.extend([9])                   \n",
    "print(a)\n",
    "\n",
    "print(len(a))"
   ]
  },
  {
   "cell_type": "code",
   "execution_count": 65,
   "id": "b03b504e-6ddb-4b49-829e-2288b914594c",
   "metadata": {},
   "outputs": [
    {
     "name": "stdout",
     "output_type": "stream",
     "text": [
      "['apple', 'banana', 'cherry', 'kiwi', 'Orange']\n",
      "['apple', 'lichi', 'banana', 'cherry', 'kiwi', 'Orange']\n",
      "[1, 2, 3, 4, 5, 6, 7]\n",
      "[1, 2, 3, 4, 9, 5, 6, 7]\n"
     ]
    }
   ],
   "source": [
    "# INSERT\n",
    "\n",
    "# Syntax: list_name.insert (Index, 'Value')\n",
    "\n",
    "\n",
    "# Example 1:\n",
    "\n",
    "a = ['apple', 'banana', 'cherry', 'kiwi', 'Orange']\n",
    "print(a)\n",
    "\n",
    "a.insert(1, 'lichi')\n",
    "print(a)\n",
    "\n",
    "\n",
    "\n",
    "# Example 2:\n",
    "\n",
    "b = [1, 2, 3, 4, 5, 6, 7]\n",
    "print(b)\n",
    "\n",
    "b.insert(4, 9)                   \n",
    "print(b)"
   ]
  },
  {
   "cell_type": "code",
   "execution_count": 85,
   "id": "80f719c6-1dbf-4678-8078-d3407d94beca",
   "metadata": {},
   "outputs": [
    {
     "name": "stdout",
     "output_type": "stream",
     "text": [
      "['apple', 'banana', 'cherry', 'kiwi', 'Orange']\n",
      "['apple', 'cherry', 'kiwi', 'Orange']\n",
      "[1, 2, 3, 4, 5, 6, 7]\n",
      "[1, 2, 3, 4, 6, 7]\n",
      "[1, 2, 3, 4, 5, 6, 7]\n",
      "[1, 2, 4, 5, 6, 7]\n"
     ]
    }
   ],
   "source": [
    "# POP \n",
    "\n",
    "# Syntax: list_name.pop(index)\n",
    "\n",
    "\n",
    "# Example 1:\n",
    "\n",
    "a = ['apple', 'banana', 'cherry', 'kiwi', 'Orange']\n",
    "print (a)\n",
    "\n",
    "a.pop(1)\n",
    "print(a)\n",
    "\n",
    "\n",
    "\n",
    "# Example 2:\n",
    "\n",
    "b = [1, 2, 3, 4, 5, 6, 7]\n",
    "print (b)\n",
    "\n",
    "b.pop(4)                   \n",
    "print(b)\n",
    "\n",
    "\n",
    "\n",
    "# Example 3:\n",
    "\n",
    "c = [1, 2, 3, 4, 5, 6, 7]\n",
    "print (c)\n",
    "\n",
    "c.pop(-5)                   \n",
    "print(c)"
   ]
  },
  {
   "cell_type": "raw",
   "id": "c8c6b666-b97e-40f4-977f-ffa03d2129fa",
   "metadata": {},
   "source": [
    "INFO:\n",
    "\n",
    "# Index count\n",
    "\n",
    " 0  1  2  3  4  5  6  7   8    ----> From Right\n",
    "-9 -8 -7 -6 -5 -4 -3 -2  -1    <---- From Left\n",
    "\n",
    "# Slicing = [Start index : end index n-1 : step value]"
   ]
  },
  {
   "cell_type": "code",
   "execution_count": 71,
   "id": "805c39af-1026-41bd-92ee-3c43fa314d44",
   "metadata": {},
   "outputs": [
    {
     "name": "stdout",
     "output_type": "stream",
     "text": [
      "[5, 4, 8, 6, 3, 4, 8]\n",
      "[1, 5, 4, 8, 6, 3, 4]\n",
      "[1, 5, 4, 8, 6]\n",
      "[8, 6, 3, 4, 8, 10]\n",
      "[1, 5, 4, 8, 6, 3]\n",
      "[6, 3, 4, 8, 10]\n",
      "[2, 4, 6, 8, 10, 6, 8, 8]\n",
      "[2, 5, 8, 5, 8]\n",
      "[2, 8, 4, 8, 3, 6, 5, 10, 9, 8, 7, 6, 5, 4, 3, 2, 1]\n"
     ]
    }
   ],
   "source": [
    "# SLICING\n",
    "\n",
    "# start: index to begin (inclusive)\n",
    "# end: index to stop (exclusive)\n",
    "# Step: how many positions to move (optional)\n",
    "\n",
    "\n",
    "# Syntax 1: [Start index : end index ]\n",
    "\n",
    "a = [1, 5, 4, 8, 6, 3, 4, 8, 10]\n",
    "\n",
    "print (a[1:8])\n",
    "print (a[-9:-2])\n",
    "print (a[:5])\n",
    "print (a[3:])\n",
    "print (a[:-3])\n",
    "print (a[-5:])\n",
    "\n",
    "\n",
    "\n",
    "# Syntax 2: [Start : end : step value]\n",
    "\n",
    "b = [1,2,3,4,5,6,7,8,9,10,5,6,3,8,4,8,2]\n",
    "\n",
    "print (b[1:16:2])\n",
    "print (b[1:16:3])\n",
    "print (b[::-1])              # :: --- Reverse"
   ]
  },
  {
   "cell_type": "code",
   "execution_count": 89,
   "id": "9b5017a7-5cdb-441d-b34f-626bf884fe07",
   "metadata": {},
   "outputs": [
    {
     "name": "stdout",
     "output_type": "stream",
     "text": [
      "4\n",
      "8\n",
      "6\n",
      "9\n"
     ]
    }
   ],
   "source": [
    "# INDEX\n",
    "\n",
    "# Syntax: list_name.index(value)\n",
    "\n",
    "\n",
    "# Example 1:\n",
    "\n",
    "a = [1, 5, 4, 8, 6, 3, 4, 8, 10]\n",
    "\n",
    "print (a.index(6))\n",
    "print (a.index(10))\n",
    "\n",
    "\n",
    "# Example 2: To Find the Second Same Value\n",
    "\n",
    "b = [1, 5, 4, 8, 6, 3, 4, 8, 10, 8]\n",
    "\n",
    "print (b.index(4,4))\n",
    "print (b.index(8,8))"
   ]
  },
  {
   "cell_type": "code",
   "execution_count": 91,
   "id": "52421a22-4f77-4419-b56a-4e3ecf387410",
   "metadata": {},
   "outputs": [
    {
     "name": "stdout",
     "output_type": "stream",
     "text": [
      "[1, 5, 4, 8, 3, 4, 8, 10]\n",
      "[1, 5, 4, 8, 3, 4, 8]\n"
     ]
    }
   ],
   "source": [
    "# REMOVE\n",
    "\n",
    "# Syntax: list_name.remove(value)\n",
    "\n",
    "a = [1, 5, 4, 8, 6, 3, 4, 8, 10]\n",
    "\n",
    "a.remove(6)\n",
    "print (a)\n",
    "\n",
    "a.remove(10)\n",
    "print (a)"
   ]
  },
  {
   "cell_type": "code",
   "execution_count": 93,
   "id": "86eb656b-fb38-4302-8a59-e3e2fbea0196",
   "metadata": {},
   "outputs": [
    {
     "name": "stdout",
     "output_type": "stream",
     "text": [
      "[1, 5, 4, 8, 6, 3, 4, 10]\n"
     ]
    },
    {
     "ename": "NameError",
     "evalue": "name 'b' is not defined",
     "output_type": "error",
     "traceback": [
      "\u001b[1;31m---------------------------------------------------------------------------\u001b[0m",
      "\u001b[1;31mNameError\u001b[0m                                 Traceback (most recent call last)",
      "Cell \u001b[1;32mIn[93], line 19\u001b[0m\n\u001b[0;32m     16\u001b[0m b \u001b[38;5;241m=\u001b[39m [\u001b[38;5;241m1\u001b[39m, \u001b[38;5;241m5\u001b[39m, \u001b[38;5;241m4\u001b[39m, \u001b[38;5;241m8\u001b[39m, \u001b[38;5;241m6\u001b[39m, \u001b[38;5;241m3\u001b[39m, \u001b[38;5;241m4\u001b[39m, \u001b[38;5;241m8\u001b[39m, \u001b[38;5;241m10\u001b[39m, \u001b[38;5;241m8\u001b[39m]\n\u001b[0;32m     18\u001b[0m \u001b[38;5;28;01mdel\u001b[39;00m b\n\u001b[1;32m---> 19\u001b[0m \u001b[38;5;28mprint\u001b[39m(b)\n",
      "\u001b[1;31mNameError\u001b[0m: name 'b' is not defined"
     ]
    }
   ],
   "source": [
    "# DELETE\n",
    "\n",
    "# Syntax: del list_name[index] or del list_name\n",
    "\n",
    "\n",
    "# Example 1: Delete a value \n",
    "\n",
    "a = [1, 5, 4, 8, 6, 3, 4, 8, 10]\n",
    "\n",
    "del a[7]\n",
    "print(a)\n",
    "\n",
    "\n",
    "# Example 2: Delete an entire list\n",
    "\n",
    "b = [1, 5, 4, 8, 6, 3, 4, 8, 10, 8]\n",
    "\n",
    "del b\n",
    "print(b)"
   ]
  },
  {
   "cell_type": "code",
   "execution_count": 101,
   "id": "17a9a5c8-163b-465d-b525-527de08785a7",
   "metadata": {},
   "outputs": [
    {
     "name": "stdout",
     "output_type": "stream",
     "text": [
      "[1, 2, 2, 3, 3, 4, 4, 5, 5, 6, 6, 7, 8, 8, 8, 9, 10]\n",
      "None\n"
     ]
    }
   ],
   "source": [
    "# SORT\n",
    "\n",
    "# Syntax: list_name.sort()\n",
    "\n",
    "\n",
    "# Example 1:\n",
    "\n",
    "a = [1,2,3,4,5,6,7,8,9,10,5,6,3,8,4,8,2]\n",
    "\n",
    "a.sort()\n",
    "print(a)\n",
    "\n",
    "# Example 2: Sort can't be stored in a variable\n",
    "\n",
    "b = [1,2,3,4,5,6,7,8,9,10,5,6,3,8,4,8,2]\n",
    "\n",
    "c = b.sort()\n",
    "print(c)"
   ]
  },
  {
   "cell_type": "code",
   "execution_count": 103,
   "id": "2e391812-0a56-489d-a600-5ebeb3a56fee",
   "metadata": {},
   "outputs": [
    {
     "name": "stdout",
     "output_type": "stream",
     "text": [
      "[10, 8, 4, 3, 6, 8, 4, 5, 1]\n"
     ]
    }
   ],
   "source": [
    "# REVERSE\n",
    "\n",
    "# Syntax: list_name.reverse()\n",
    "\n",
    "\n",
    "a = [1, 5, 4, 8, 6, 3, 4, 8, 10]\n",
    "\n",
    "a.reverse()\n",
    "print(a)"
   ]
  },
  {
   "cell_type": "code",
   "execution_count": 112,
   "id": "864572da-f82b-48bf-9c9c-96025de9f571",
   "metadata": {},
   "outputs": [
    {
     "name": "stdout",
     "output_type": "stream",
     "text": [
      "[1, 5, 4, 8, 6, 3, 4, 8, 10]\n",
      "2\n"
     ]
    }
   ],
   "source": [
    "# COUNT\n",
    "\n",
    "# Syntax: list_name.count(value)\n",
    "\n",
    "a = [1, 5, 4, 8, 6, 3, 4, 8, 10]\n",
    "\n",
    "a.count(4)"
   ]
  },
  {
   "cell_type": "code",
   "execution_count": 122,
   "id": "ae701e5f-70ac-4382-845e-6c2e80d5f4ca",
   "metadata": {},
   "outputs": [
    {
     "name": "stdout",
     "output_type": "stream",
     "text": [
      "[1, 2, 2, 3, 3, 4, 4, 5, 5, 6, 6, 7, 8, 8, 8, 9, 10]\n",
      "[1, 3, 4, 4, 5, 6, 8, 8, 10]\n"
     ]
    }
   ],
   "source": [
    "# SORTED\n",
    "\n",
    "# Syntax: sorted(list_name)\n",
    "\n",
    "\n",
    "# Example 1:\n",
    "\n",
    "a = [1,2,3,4,5,6,7,8,9,10,5,6,3,8,4,8,2]\n",
    "\n",
    "print(sorted(a))\n",
    "\n",
    "\n",
    "# Example 2: A Sorted list can be stored in a variable\n",
    "\n",
    "b = [1, 5, 4, 8, 6, 3, 4, 8, 10]\n",
    "\n",
    "c = sorted(b)\n",
    "print(c)\n"
   ]
  },
  {
   "cell_type": "code",
   "execution_count": 134,
   "id": "ef806ba8-bd3a-46c8-aa8a-47698666db5e",
   "metadata": {},
   "outputs": [
    {
     "name": "stdout",
     "output_type": "stream",
     "text": [
      "[1, 5, 4, 8, 6, 3, 4, 8, 10]\n"
     ]
    }
   ],
   "source": [
    "# COPY\n",
    "\n",
    "# Syntax: list_name.copy()\n",
    "\n",
    "\n",
    "a = [1, 5, 4, 8, 6, 3, 4, 8, 10]\n",
    "b = a.copy()\n",
    "\n",
    "print(b)"
   ]
  },
  {
   "cell_type": "code",
   "execution_count": null,
   "id": "f445d92f-e671-4b33-a908-22697360dbfb",
   "metadata": {},
   "outputs": [],
   "source": []
  },
  {
   "cell_type": "markdown",
   "id": "c60ebbd6-9a99-4a2d-9be6-c018083e8c52",
   "metadata": {},
   "source": [
    "# 2. TUPLE"
   ]
  },
  {
   "cell_type": "raw",
   "id": "baffde03-22db-4648-81d4-463f46315ac2",
   "metadata": {},
   "source": [
    "A tuple in Python is an ordered, immutable collection of items.\n",
    "\n",
    "Ordered → You can access elements by index.\n",
    "\n",
    "Immutable → Once created, cannot be changed (no add, no remove, no modify).\n",
    "\n",
    "👉 Think of it like a read-only list."
   ]
  },
  {
   "cell_type": "code",
   "execution_count": 139,
   "id": "1f7aeddf-9b74-4926-b714-1015dc64bfea",
   "metadata": {},
   "outputs": [
    {
     "name": "stdout",
     "output_type": "stream",
     "text": [
      "['__add__', '__class__', '__class_getitem__', '__contains__', '__delattr__', '__dir__', '__doc__', '__eq__', '__format__', '__ge__', '__getattribute__', '__getitem__', '__getnewargs__', '__getstate__', '__gt__', '__hash__', '__init__', '__init_subclass__', '__iter__', '__le__', '__len__', '__lt__', '__mul__', '__ne__', '__new__', '__reduce__', '__reduce_ex__', '__repr__', '__rmul__', '__setattr__', '__sizeof__', '__str__', '__subclasshook__', 'count', 'index']\n"
     ]
    }
   ],
   "source": [
    "# To see the Tuple Functions\n",
    "\n",
    "print (dir(tuple))"
   ]
  },
  {
   "cell_type": "code",
   "execution_count": 149,
   "id": "061cab0b-4433-483c-ac72-6792e77c7a31",
   "metadata": {},
   "outputs": [
    {
     "name": "stdout",
     "output_type": "stream",
     "text": [
      "('apple', 'banana', 'cherry', 'kiwi', 'Orange')\n",
      "('Almond', 'Dates')\n"
     ]
    }
   ],
   "source": [
    "# Create a Tuple\n",
    "\n",
    "Fruits = ('apple', 'banana', 'cherry', 'kiwi', 'Orange')\n",
    "\n",
    "DryFruits = 'Almond', 'Dates'\n",
    "\n",
    "# Access a Tuple\n",
    "\n",
    "print(Fruits)\n",
    "print(DryFruits)"
   ]
  },
  {
   "cell_type": "code",
   "execution_count": 159,
   "id": "7966d9a5-939c-496f-bd84-f585706ae7a5",
   "metadata": {},
   "outputs": [
    {
     "name": "stdout",
     "output_type": "stream",
     "text": [
      "3\n",
      "6\n",
      "9\n"
     ]
    }
   ],
   "source": [
    "# INDEX\n",
    "\n",
    "# Syntax: list_name.index(value)\n",
    "\n",
    "\n",
    "# Example 1:\n",
    "\n",
    "Fruits = ('apple', 'banana', 'cherry', 'kiwi', 'Orange')\n",
    "\n",
    "print(Fruits.index('kiwi'))\n",
    "\n",
    "\n",
    "\n",
    "# Example 2:\n",
    "\n",
    "b = 1, 5, 4, 8, 6, 3, 4, 8, 10, 8\n",
    "\n",
    "print (b.index(4,4))\n",
    "print (b.index(8,8))"
   ]
  },
  {
   "cell_type": "code",
   "execution_count": 161,
   "id": "380cad55-3c4c-41f3-b9de-48b3dabd9aca",
   "metadata": {},
   "outputs": [
    {
     "name": "stdout",
     "output_type": "stream",
     "text": [
      "1\n",
      "2\n"
     ]
    }
   ],
   "source": [
    "# COUNT\n",
    "\n",
    "# Syntax: list_name.index(value)\n",
    "\n",
    "\n",
    "# Example 1:\n",
    "\n",
    "Fruits = ('apple', 'banana', 'cherry', 'kiwi', 'Orange')\n",
    "\n",
    "print(Fruits.count('kiwi'))\n",
    "\n",
    "\n",
    "\n",
    "# Example 2:\n",
    "\n",
    "b = 1, 5, 4, 8, 6, 3, 4, 8, 10, 8\n",
    "\n",
    "print (b.count(4))"
   ]
  },
  {
   "cell_type": "code",
   "execution_count": 167,
   "id": "41c9afa8-d1ce-4da9-a8b8-881282fa9411",
   "metadata": {},
   "outputs": [
    {
     "name": "stdout",
     "output_type": "stream",
     "text": [
      "(5, 4, 8, 6, 3, 4, 8)\n",
      "(1, 5, 4, 8, 6, 3, 4)\n",
      "(1, 5, 4, 8, 6)\n",
      "(8, 6, 3, 4, 8, 10)\n",
      "(1, 5, 4, 8, 6, 3)\n",
      "(6, 3, 4, 8, 10)\n",
      "(2, 4, 6, 8, 10, 6, 8, 8)\n",
      "(2, 5, 8, 5, 8)\n",
      "(2, 8, 4, 8, 3, 6, 5, 10, 9, 8, 7, 6, 5, 4, 3, 2, 1)\n"
     ]
    }
   ],
   "source": [
    "# SLICING\n",
    "\n",
    "# start: index to begin (inclusive)\n",
    "# end: index to stop (exclusive)\n",
    "# Step: how many positions to move (optional)\n",
    "\n",
    "\n",
    "# Syntax 1: [Start index : end index]\n",
    "\n",
    "\n",
    "\n",
    "a = (1, 5, 4, 8, 6, 3, 4, 8, 10)\n",
    "\n",
    "print (a[1:8])\n",
    "print (a[-9:-2])\n",
    "print (a[:5])\n",
    "print (a[3:])\n",
    "print (a[:-3])\n",
    "print (a[-5:])\n",
    "\n",
    "\n",
    "\n",
    "# Syntax 2: [Start : end : step value]\n",
    "\n",
    "b = 1,2,3,4,5,6,7,8,9,10,5,6,3,8,4,8,2\n",
    "\n",
    "print (b[1:16:2])\n",
    "print (b[1:16:3])\n",
    "print (b[::-1])              # :: --- Reverse"
   ]
  },
  {
   "cell_type": "raw",
   "id": "e03e33a8-38fc-4a6a-8202-ccdfa4914183",
   "metadata": {},
   "source": [
    " INFO:\n",
    "\n",
    " \"getsizeof()\" is a function from the 'sys' module that returns the memory size in bytes of an object in Python.\n"
   ]
  },
  {
   "cell_type": "code",
   "execution_count": 178,
   "id": "c7787af4-b0b2-4d64-a530-3578c8f8c2c6",
   "metadata": {},
   "outputs": [
    {
     "name": "stdout",
     "output_type": "stream",
     "text": [
      "112\n"
     ]
    }
   ],
   "source": [
    "# GETSIZEOF\n",
    "\n",
    "#Syntax: 'import sys' & getsizeof(list_name)\n",
    "\n",
    "import sys\n",
    "\n",
    "a = (1, 5, 4, 8, 6, 3, 4, 8, 10)\n",
    "\n",
    "print(sys.getsizeof(a))\n"
   ]
  },
  {
   "cell_type": "raw",
   "id": "31b5a76d-e367-4821-ab11-fd91c21721c1",
   "metadata": {},
   "source": [
    " INFO:\n",
    "\n",
    "# Delete a value in a Tuple\n",
    "\n",
    " Tuples are immutable, meaning once created, you cannot change, add, or remove elements inside them.\n",
    "\n",
    " t = (1, 2, 3)\n",
    " t[1] = 5         # ❌ TypeError\n",
    " del t[1]         # ❌ TypeError\n",
    "\n",
    "\n",
    "# What You Can Do is You Can Delete the Entire Tuple:\n",
    "\n",
    " t = (10, 20, 30)\n",
    " del t  # Deletes the whole tuple from memory"
   ]
  },
  {
   "cell_type": "code",
   "execution_count": null,
   "id": "762ac240-29d5-4c61-9251-5b2560bed5ff",
   "metadata": {},
   "outputs": [],
   "source": [
    "# DELETE\n",
    "\n",
    "# Syntax: del list_name\n",
    "\n",
    "\n",
    "# Example 1: Can Delete an entire list\n",
    "\n",
    "a = 1, 5, 4, 8, 6, 3, 4, 8, 10, 8\n",
    "\n",
    "del a\n",
    "print(a)"
   ]
  },
  {
   "cell_type": "code",
   "execution_count": null,
   "id": "8c11e2aa-6dcd-45e4-aac8-c027ea06b080",
   "metadata": {},
   "outputs": [],
   "source": []
  },
  {
   "cell_type": "markdown",
   "id": "6a323916-2f72-402d-9e95-6a6d0364cda7",
   "metadata": {},
   "source": [
    "# 3. STRING"
   ]
  },
  {
   "cell_type": "raw",
   "id": "c47f97a0-6012-4dec-9083-91eb8ddf353c",
   "metadata": {},
   "source": [
    "A String in Python is a sequence of characters enclosed inside single quotes ' ', double quotes \" \", or triple quotes ''' ''' / \"\"\" \"\"\".\n",
    "\n",
    "👉 It is immutable — once created, you can't change it (you can only create a new one)."
   ]
  },
  {
   "cell_type": "code",
   "execution_count": 15,
   "id": "7da6f45a-64a9-477a-9fcc-7ae0e7f79e69",
   "metadata": {},
   "outputs": [
    {
     "name": "stdout",
     "output_type": "stream",
     "text": [
      "['__add__', '__class__', '__contains__', '__delattr__', '__dir__', '__doc__', '__eq__', '__format__', '__ge__', '__getattribute__', '__getitem__', '__getnewargs__', '__getstate__', '__gt__', '__hash__', '__init__', '__init_subclass__', '__iter__', '__le__', '__len__', '__lt__', '__mod__', '__mul__', '__ne__', '__new__', '__reduce__', '__reduce_ex__', '__repr__', '__rmod__', '__rmul__', '__setattr__', '__sizeof__', '__str__', '__subclasshook__', 'capitalize', 'casefold', 'center', 'count', 'encode', 'endswith', 'expandtabs', 'find', 'format', 'format_map', 'index', 'isalnum', 'isalpha', 'isascii', 'isdecimal', 'isdigit', 'isidentifier', 'islower', 'isnumeric', 'isprintable', 'isspace', 'istitle', 'isupper', 'join', 'ljust', 'lower', 'lstrip', 'maketrans', 'partition', 'removeprefix', 'removesuffix', 'replace', 'rfind', 'rindex', 'rjust', 'rpartition', 'rsplit', 'rstrip', 'split', 'splitlines', 'startswith', 'strip', 'swapcase', 'title', 'translate', 'upper', 'zfill']\n"
     ]
    }
   ],
   "source": [
    "# To see the String Functions\n",
    "\n",
    "print (dir(str))"
   ]
  },
  {
   "cell_type": "code",
   "execution_count": 23,
   "id": "3912f486-1181-4ca0-8401-048fa05ffeff",
   "metadata": {},
   "outputs": [
    {
     "name": "stdout",
     "output_type": "stream",
     "text": [
      "O\n",
      "Almond\n",
      " Multi line String \n"
     ]
    }
   ],
   "source": [
    "# Create a String\n",
    "\n",
    "a = 'O'   \n",
    "\n",
    "b = \"Almond\"  \n",
    "\n",
    "c = ''' Multi line String '''       \n",
    "\n",
    "# Access a String\n",
    "\n",
    "print(a)\n",
    "print(b)\n",
    "print(c)\n"
   ]
  },
  {
   "cell_type": "code",
   "execution_count": 19,
   "id": "a039f584-af50-4545-b428-bc6ce4fedac3",
   "metadata": {},
   "outputs": [
    {
     "name": "stdout",
     "output_type": "stream",
     "text": [
      " My name is Hariharan B \n",
      "<class 'str'>\n"
     ]
    }
   ],
   "source": [
    "# COMMENT\n",
    "\n",
    "# Syntax: ''' Multi Line String '''\n",
    "\n",
    "a = ''' My name is Hariharan B '''\n",
    "\n",
    "print(a)\n",
    "print(type(a))\n"
   ]
  },
  {
   "cell_type": "code",
   "execution_count": 37,
   "id": "e9fa5b1c-0abb-461f-95ce-53e1d07f4b8e",
   "metadata": {},
   "outputs": [
    {
     "name": "stdout",
     "output_type": "stream",
     "text": [
      "Hi...I am Hariharan.B & my age is 28.\n",
      "The sum of 30 & 50 is 80.\n"
     ]
    }
   ],
   "source": [
    "# F - String\n",
    "\n",
    "# Syntax: f'Srting with variables'\n",
    "\n",
    "\n",
    "# Example 1:\n",
    "\n",
    "a = 'Hariharan.B'\n",
    "b = 28\n",
    "\n",
    "Info = f'Hi...I am {a} & my age is {b}.'\n",
    "\n",
    "print(Info)\n",
    "\n",
    "\n",
    "# Example 2:\n",
    "\n",
    "a = 30\n",
    "b = 50\n",
    "\n",
    "c = f'The sum of {a} & {b} is {a+b}.'\n",
    "\n",
    "print(c)\n"
   ]
  },
  {
   "cell_type": "code",
   "execution_count": 43,
   "id": "1027fbfe-8227-466c-a372-97129d8b804d",
   "metadata": {},
   "outputs": [
    {
     "data": {
      "text/plain": [
       "'Hariharan Balasubramanian'"
      ]
     },
     "execution_count": 43,
     "metadata": {},
     "output_type": "execute_result"
    }
   ],
   "source": [
    "# CONCAT\n",
    "\n",
    "# Syntax: String 1 + String 2\n",
    "\n",
    "\n",
    "a = 'Hariharan '\n",
    "b = 'Balasubramanian'\n",
    "\n",
    "a + b\n"
   ]
  },
  {
   "cell_type": "code",
   "execution_count": 51,
   "id": "33376826-3d52-4e59-9947-f9ddb641fe5b",
   "metadata": {},
   "outputs": [
    {
     "name": "stdout",
     "output_type": "stream",
     "text": [
      "MynameisHariharan.B\n",
      "My name is Hariharan.B\n",
      "My*name*is*Hariharan.B\n"
     ]
    }
   ],
   "source": [
    "# JOIN\n",
    "\n",
    "# Syntax: \"\".join(variable)\n",
    "\n",
    "\n",
    "# Example 1: Join Without Space\n",
    "\n",
    "a = 'My', 'name', 'is', 'Hariharan.B'\n",
    "\n",
    "b = \"\".join(a)\n",
    "print(b)\n",
    "\n",
    "\n",
    "# Example 2: Join With Space\n",
    "\n",
    "c = 'My', 'name', 'is', 'Hariharan.B'\n",
    "\n",
    "d = \" \".join(c)\n",
    "print(d)\n",
    "\n",
    "\n",
    "\n",
    "# Example 3: Join with any Special character\n",
    "\n",
    "e = 'My', 'name', 'is', 'Hariharan.B'\n",
    "\n",
    "f = \"*\".join(e)\n",
    "print(f)\n"
   ]
  },
  {
   "cell_type": "code",
   "execution_count": 58,
   "id": "736b41f1-ad15-47b7-8d98-8bc3d2f0134d",
   "metadata": {},
   "outputs": [
    {
     "name": "stdout",
     "output_type": "stream",
     "text": [
      "22\n",
      "19\n"
     ]
    }
   ],
   "source": [
    "# LENGTH\n",
    "\n",
    "# Syntax: length(variable)\n",
    "\n",
    "\n",
    "a = 'My name is Hariharan.B'\n",
    "\n",
    "b = 'MynameisHariharan.B'\n",
    "\n",
    "\n",
    "print(len(a))\n",
    "print(len(b))\n"
   ]
  },
  {
   "cell_type": "code",
   "execution_count": 60,
   "id": "e237cd07-4282-4a6d-8578-c10873b28463",
   "metadata": {},
   "outputs": [
    {
     "name": "stdout",
     "output_type": "stream",
     "text": [
      "WELCOME\n",
      "hariharan\n"
     ]
    }
   ],
   "source": [
    "# UPPER & LOWER\n",
    "\n",
    "# Syntax: .upper() & .lower()\n",
    "\n",
    "\n",
    "# Example 1: With Upper\n",
    "\n",
    "a = 'Welcome'\n",
    "\n",
    "print(a.upper())\n",
    "\n",
    "\n",
    "# Example 2: With Lower\n",
    "\n",
    "b = 'Hariharan'\n",
    "\n",
    "print(b.lower())\n"
   ]
  },
  {
   "cell_type": "code",
   "execution_count": 72,
   "id": "3cab6a1f-f60d-4bbb-9b42-b26e38d7558d",
   "metadata": {},
   "outputs": [
    {
     "name": "stdout",
     "output_type": "stream",
     "text": [
      "WeLcome\n",
      "My name is Harish\n",
      "eggs eggs spam spam\n"
     ]
    }
   ],
   "source": [
    "# REPLACE\n",
    "\n",
    "# Syntax: .replace(old, new) & .replace(old, new, count/occurrence)\n",
    "\n",
    "\n",
    "# Without occurrence\n",
    "\n",
    "# Example 1: \n",
    "\n",
    "a = 'Welcome'\n",
    "\n",
    "print(a.replace('l', 'L'))\n",
    "\n",
    "\n",
    "# Example 2: \n",
    "\n",
    "b = 'My name is Hariharan'\n",
    "\n",
    "print(b.replace('Hariharan', 'Harish'))\n",
    "\n",
    "\n",
    "\n",
    "\n",
    "# With occurrence\n",
    "\n",
    "# Example 1: \n",
    "\n",
    "Text = \"spam spam spam spam\"\n",
    "\n",
    "print(Text.replace(\"spam\", \"eggs\", 2))\n"
   ]
  },
  {
   "cell_type": "code",
   "execution_count": 92,
   "id": "11f5b83f-5953-44e3-97a3-7ca63a7842bf",
   "metadata": {},
   "outputs": [
    {
     "name": "stdout",
     "output_type": "stream",
     "text": [
      "12\n",
      "5\n",
      "3\n",
      "5\n"
     ]
    }
   ],
   "source": [
    "# INDEX\n",
    "\n",
    "# Syntax: .index(value) & .index(value, start, end)\n",
    "\n",
    "\n",
    "# Example 1: Basic Usage\n",
    "\n",
    "a = \"Python programming\"\n",
    "\n",
    "print(a.index(\"a\"))\n",
    "\n",
    "\n",
    "\n",
    "# Example 2: With Full Words/Substrings\n",
    "\n",
    "Text = \"Data science is fun\"\n",
    "\n",
    "print(Text.index(\"science\"))\n",
    "\n",
    "\n",
    "\n",
    "# Example 3: With Start \n",
    "\n",
    "b = \"banana\"\n",
    "\n",
    "print(b.index(\"a\", 2))\n",
    "\n",
    "\n",
    "\n",
    "# Example 4: With Start & End\n",
    "\n",
    "End = \"abababab\"\n",
    "\n",
    "print(End.index(\"b\", 4, 7)) \n"
   ]
  },
  {
   "cell_type": "code",
   "execution_count": 94,
   "id": "f552d388-7543-4234-ab75-3db91297466a",
   "metadata": {},
   "outputs": [
    {
     "name": "stdout",
     "output_type": "stream",
     "text": [
      "12\n",
      "5\n",
      "3\n",
      "5\n"
     ]
    }
   ],
   "source": [
    "# FIND\n",
    "\n",
    "# Syntax: .find(value) & .find(value, start, end)\n",
    "\n",
    "\n",
    "# Example 1: Basic Usage\n",
    "\n",
    "a = \"Python programming\"\n",
    "\n",
    "print(a.find(\"a\"))\n",
    "\n",
    "\n",
    "\n",
    "# Example 2: With Full Words/Substrings\n",
    "\n",
    "Text = \"Data science is fun\"\n",
    "\n",
    "print(Text.find(\"science\"))\n",
    "\n",
    "\n",
    "\n",
    "# Example 3: With Start \n",
    "\n",
    "b = \"banana\"\n",
    "\n",
    "print(b.find(\"a\", 2))\n",
    "\n",
    "\n",
    "\n",
    "# Example 4: With Start & End\n",
    "\n",
    "End = \"abababab\"\n",
    "\n",
    "print(End.find(\"b\", 4, 7)) \n"
   ]
  },
  {
   "cell_type": "code",
   "execution_count": 142,
   "id": "c15b5e21-08e6-41ed-8f44-66d29f5a68cb",
   "metadata": {},
   "outputs": [
    {
     "name": "stdout",
     "output_type": "stream",
     "text": [
      "['Python', 'is', 'awesome']\n",
      "['apple', 'banana', 'orange']\n",
      "['apple', 'banana', 'orange,grape']\n"
     ]
    }
   ],
   "source": [
    "# SPLIT\n",
    "\n",
    "# Syntax: .split()\n",
    "\n",
    "\n",
    "# Example 1: Basic Split (By Whitespace)\n",
    "\n",
    "a = \"Python is awesome\"\n",
    "\n",
    "b = a.split()\n",
    "print(b)\n",
    "\n",
    "\n",
    "\n",
    "# Example 2: Split by Specific Character\n",
    "\n",
    "c = \"apple,banana,orange\"\n",
    "\n",
    "d = c.split(\",\")\n",
    "print(d) \n",
    "\n",
    "\n",
    "\n",
    "# Example 3: Limit the Number of Splits\n",
    "\n",
    "e = \"apple,banana,orange,grape\"\n",
    "\n",
    "f = e.split(\",\", 2)\n",
    "print(f) \n"
   ]
  },
  {
   "cell_type": "code",
   "execution_count": 110,
   "id": "b9740758-c083-4839-b3da-b50794315cd4",
   "metadata": {},
   "outputs": [
    {
     "name": "stdout",
     "output_type": "stream",
     "text": [
      "hello world\n",
      "python\n",
      "hello\n",
      "17\n",
      "hello world   \n",
      "14\n",
      "17\n",
      "   hello world\n",
      "14\n"
     ]
    }
   ],
   "source": [
    "# STRIP\n",
    "\n",
    "# Syntax: .strip(values) & .rstrip(chars) & .lstrip(chars)\n",
    "\n",
    "# No argument   → removes whitespace by default\n",
    "# With argument → removes all listed characters (not substrings)\n",
    "\n",
    "\n",
    "# Example 1: Remove spaces\n",
    "\n",
    "a = \"   hello world   \"\n",
    "\n",
    "print(a.strip())\n",
    "\n",
    "\n",
    "\n",
    "# Example 2: Strip specific characters\n",
    "\n",
    "b = \"---python---\"\n",
    "\n",
    "print(b.strip(\"-\")) \n",
    "\n",
    "\n",
    "\n",
    "#  Example 3: Strip multiple characters\n",
    "\n",
    "c = \"#@!hello!@#\"\n",
    "\n",
    "print(c.strip(\"#@!\"))\n",
    "\n",
    "\n",
    "\n",
    "# Example 4: Left Strip\n",
    "\n",
    "d = \"   hello world   \"\n",
    "\n",
    "print(len(d))\n",
    "print(d.lstrip())\n",
    "print(len(d.lstrip()))\n",
    "\n",
    "\n",
    "\n",
    "#  Example 5: Right Strip\n",
    "\n",
    "e = \"   hello world   \"\n",
    "\n",
    "print(len(e))\n",
    "print(e.rstrip())\n",
    "print(len(e.rstrip()))\n"
   ]
  },
  {
   "cell_type": "code",
   "execution_count": 122,
   "id": "98385a5a-29d5-48b5-86d6-673bfb1427d6",
   "metadata": {},
   "outputs": [
    {
     "name": "stdout",
     "output_type": "stream",
     "text": [
      "Pytho\n",
      "Pyth\n",
      "thon\n",
      "hon\n",
      "Pyth\n",
      "bd\n",
      "fedcba\n"
     ]
    }
   ],
   "source": [
    "# SLICING\n",
    "\n",
    "# Syntax: string[start : end ] & string[start : end : step]\n",
    "\n",
    "# start: index to begin (inclusive)\n",
    "# end: index to stop (exclusive)\n",
    "# Step: how many positions to move (optional)\n",
    "\n",
    "\n",
    "# Example 1: Basic Slicing\n",
    "\n",
    "a = \"Python programming\"\n",
    "\n",
    "print(a[0:5])\n",
    "\n",
    "\n",
    "\n",
    "# Example 2: With Start or End\n",
    "\n",
    "b = \"Python\"\n",
    "print(b[:4])   \n",
    "print(b[2:])\n",
    "\n",
    "\n",
    "\n",
    "# Example 3: Negative Indexing\n",
    "\n",
    "\n",
    "c = \"Python\"\n",
    "print(c[-3:])  \n",
    "print(c[:-2])\n",
    "\n",
    "\n",
    "\n",
    "# Example 4: Using Step\n",
    "\n",
    "d = \"abcdef\"\n",
    "print(d[1:5:2])   \n",
    "print(d[::-1])        # Reverse \n"
   ]
  },
  {
   "cell_type": "code",
   "execution_count": 134,
   "id": "fee95992-c3b4-4ff2-869b-40aa38121af5",
   "metadata": {},
   "outputs": [
    {
     "name": "stdout",
     "output_type": "stream",
     "text": [
      "True\n",
      "False\n",
      "True\n",
      "False\n",
      "True\n",
      "True\n"
     ]
    }
   ],
   "source": [
    "# STARTSWITH & ENDSWITH\n",
    "\n",
    "# Syntax: .startswith(prefix, start, end) & .endswith(suffix, start, end)\n",
    "\n",
    "# prefix & prefix: the string to check\n",
    "# start, end (optional): check only a slice of the string\n",
    "\n",
    "\n",
    "# Example 1: \n",
    "\n",
    "a = \"hello world\"\n",
    "print(a.startswith(\"hello\"))  \n",
    "print(a.startswith(\"world\"))  \n",
    "\n",
    "\n",
    "\n",
    "# Example 2: \n",
    "\n",
    "b = \"report.csv\"\n",
    "print(b.endswith(\".csv\"))      \n",
    "print(b.endswith(\".txt\"))\n",
    "\n",
    "\n",
    "\n",
    "# Example 3:\n",
    "\n",
    "\n",
    "c = \"python.txt\"\n",
    "print(c.startswith(\"python\", 0, 7))\n",
    "print(c.endswith(\".txt\",-4))\n"
   ]
  },
  {
   "cell_type": "code",
   "execution_count": null,
   "id": "fabcf002-183d-4372-bf1c-57e467c5c34e",
   "metadata": {},
   "outputs": [],
   "source": []
  },
  {
   "cell_type": "markdown",
   "id": "794fe24e-4938-4df1-ac25-ff66b82a9764",
   "metadata": {},
   "source": [
    "# 4. SET"
   ]
  },
  {
   "cell_type": "raw",
   "id": "52ce3807-81d4-45b2-b5f2-971f819a3561",
   "metadata": {},
   "source": [
    "A set in Python is an unordered collection of unique elements.\n",
    "\n",
    "No duplicates allowed\n",
    "\n",
    "Elements can be of different types (but must be immutable)\n",
    "\n",
    "Sets are mutable (you can add/remove items)\n",
    "\n",
    "👉 Think of it like a real-world \"set of cards\" — no card appears twice!"
   ]
  },
  {
   "cell_type": "code",
   "execution_count": 2,
   "id": "bc1b3a4f-daf7-41b0-9881-986d353af6ba",
   "metadata": {},
   "outputs": [
    {
     "name": "stdout",
     "output_type": "stream",
     "text": [
      "['__and__', '__class__', '__class_getitem__', '__contains__', '__delattr__', '__dir__', '__doc__', '__eq__', '__format__', '__ge__', '__getattribute__', '__getstate__', '__gt__', '__hash__', '__iand__', '__init__', '__init_subclass__', '__ior__', '__isub__', '__iter__', '__ixor__', '__le__', '__len__', '__lt__', '__ne__', '__new__', '__or__', '__rand__', '__reduce__', '__reduce_ex__', '__repr__', '__ror__', '__rsub__', '__rxor__', '__setattr__', '__sizeof__', '__str__', '__sub__', '__subclasshook__', '__xor__', 'add', 'clear', 'copy', 'difference', 'difference_update', 'discard', 'intersection', 'intersection_update', 'isdisjoint', 'issubset', 'issuperset', 'pop', 'remove', 'symmetric_difference', 'symmetric_difference_update', 'union', 'update']\n"
     ]
    }
   ],
   "source": [
    "# To see the Set Functions\n",
    "\n",
    "print (dir(set))"
   ]
  },
  {
   "cell_type": "code",
   "execution_count": 1,
   "id": "c2434fc9-116d-406e-8405-d9f267a54645",
   "metadata": {},
   "outputs": [
    {
     "name": "stdout",
     "output_type": "stream",
     "text": [
      "{'Orange', 'cherry', 'kiwi', 'apple', 'banana'}\n",
      "{'Almond', 'Dates'}\n",
      "{1, 2, 3, 4, 5}\n"
     ]
    }
   ],
   "source": [
    "# Create a Set\n",
    "\n",
    "Fruits = {'apple', 'banana', 'cherry', 'kiwi', 'Orange'}    # Using curly braces\n",
    "\n",
    "DryFruits = set (['Almond', 'Dates'])                       # Using set() function\n",
    "\n",
    "a = {1, 2, 3, 3, 4, 4, 5}                                   # Duplicate will be removed in the print\n",
    "\n",
    "# Access a Set\n",
    "\n",
    "print(Fruits)\n",
    "print(DryFruits)\n",
    "print(a)\n"
   ]
  },
  {
   "cell_type": "code",
   "execution_count": 3,
   "id": "79f69313-48a9-488d-a06d-3c00106bcbfd",
   "metadata": {},
   "outputs": [
    {
     "name": "stdout",
     "output_type": "stream",
     "text": [
      "{1, 2, 3, 4, 5, 6}\n"
     ]
    }
   ],
   "source": [
    "# ADD\n",
    "\n",
    "# Syntax: .add(value)\n",
    "\n",
    "a = {1, 4, 2, 3, 6}\n",
    "\n",
    "a.add(5)\n",
    "print(a)\n"
   ]
  },
  {
   "cell_type": "code",
   "execution_count": 7,
   "id": "ead612a8-29ab-48c8-ac22-bd874e99310c",
   "metadata": {},
   "outputs": [
    {
     "name": "stdout",
     "output_type": "stream",
     "text": [
      "{1, 2, 4, 6}\n",
      "{1, 2, 3, 4, 6}\n"
     ]
    }
   ],
   "source": [
    "# DISCARD\n",
    "\n",
    "# Syntax: .discard(value)\n",
    "\n",
    "\n",
    "# Example 1: Value in the set\n",
    "\n",
    "a = {1, 4, 2, 3, 6}\n",
    "\n",
    "a.discard(3)\n",
    "print(a)\n",
    "\n",
    "\n",
    "# Example 2: Value not in the set\n",
    "\n",
    "b = {1, 4, 2, 3, 6}\n",
    "\n",
    "b.discard(5)           # Don't throw error, if value in the set it will dicard.\n",
    "print(b)\n"
   ]
  },
  {
   "cell_type": "code",
   "execution_count": 13,
   "id": "904e6c3f-4427-47c4-a6e6-c721c555d35c",
   "metadata": {},
   "outputs": [
    {
     "name": "stdout",
     "output_type": "stream",
     "text": [
      "{1, 2, 4, 6}\n"
     ]
    },
    {
     "ename": "KeyError",
     "evalue": "5",
     "output_type": "error",
     "traceback": [
      "\u001b[1;31m---------------------------------------------------------------------------\u001b[0m",
      "\u001b[1;31mKeyError\u001b[0m                                  Traceback (most recent call last)",
      "Cell \u001b[1;32mIn[13], line 19\u001b[0m\n\u001b[0;32m     15\u001b[0m \u001b[38;5;66;03m# Example 2: Value not in the set\u001b[39;00m\n\u001b[0;32m     17\u001b[0m b \u001b[38;5;241m=\u001b[39m {\u001b[38;5;241m1\u001b[39m, \u001b[38;5;241m4\u001b[39m, \u001b[38;5;241m2\u001b[39m, \u001b[38;5;241m3\u001b[39m, \u001b[38;5;241m6\u001b[39m}\n\u001b[1;32m---> 19\u001b[0m b\u001b[38;5;241m.\u001b[39mremove(\u001b[38;5;241m5\u001b[39m)           \u001b[38;5;66;03m# It will throw error, if value not in the set.\u001b[39;00m\n\u001b[0;32m     20\u001b[0m \u001b[38;5;28mprint\u001b[39m(b)\n",
      "\u001b[1;31mKeyError\u001b[0m: 5"
     ]
    }
   ],
   "source": [
    "# REMOVE\n",
    "\n",
    "# Syntax: .remove(value)\n",
    "\n",
    "\n",
    "# Example 1: Value in the set\n",
    "\n",
    "a = {1, 4, 2, 3, 6}\n",
    "\n",
    "a.remove(3)\n",
    "print(a)\n",
    "\n",
    "\n",
    "\n",
    "# Example 2: Value not in the set\n",
    "\n",
    "b = {1, 4, 2, 3, 6}\n",
    "\n",
    "b.remove(5)           # It will throw error, if value not in the set.\n",
    "print(b)\n"
   ]
  },
  {
   "cell_type": "raw",
   "id": "d8904249-284f-495e-9bc2-821a3bb0810e",
   "metadata": {},
   "source": [
    " INFO:\n",
    "\n",
    "\n",
    " Method\t      If Element Exists\t          If Element Does Not Exist\n",
    "--------     -------------------         ---------------------------\n",
    "\n",
    "remove()\t     Removes it\t                ❌ Raises KeyError\n",
    "discard()\t     Removes it\t                ✅ Does nothing (no error)\n"
   ]
  },
  {
   "cell_type": "code",
   "execution_count": 17,
   "id": "f8e0db64-0d13-41d9-9766-e2e0dbb19144",
   "metadata": {},
   "outputs": [
    {
     "name": "stdout",
     "output_type": "stream",
     "text": [
      "{1, 2, 3, 4, 6}\n",
      "{2, 3, 4, 6}\n"
     ]
    }
   ],
   "source": [
    "# POP\n",
    "\n",
    "# Syntax: .pop()\n",
    "\n",
    "# .pop() removes and returns a random element from a set.\n",
    "# Yes — random because sets are unordered.\n",
    "\n",
    "\n",
    "a = {1, 4, 2, 3, 6}\n",
    "print(a)\n",
    "\n",
    "a.pop()                # Removes the first value\n",
    "print(a)\n"
   ]
  },
  {
   "cell_type": "code",
   "execution_count": 25,
   "id": "caf480e5-787e-48e1-aff1-684e9432a728",
   "metadata": {},
   "outputs": [
    {
     "name": "stdout",
     "output_type": "stream",
     "text": [
      "{1, 2, 3, 4, 5}\n",
      "{1, 2, 3, 4, 5}\n",
      "{1, 2, 3, 4}\n"
     ]
    }
   ],
   "source": [
    "# UNION\n",
    "\n",
    "# Syntax : .union(set2, set3, ...) &  set1 | set2 | set3  # Using the pipe `|` operator\n",
    "\n",
    "# The union() method returns a new set that contains all unique elements from both (or more) sets.\n",
    "# Duplicates are automatically removed\n",
    "# Original sets stay unchanged\n",
    "\n",
    "\n",
    "# Example 1: Basic union\n",
    "\n",
    "a = {1, 2, 3}\n",
    "b = {3, 4, 5}\n",
    "\n",
    "print(a.union(b))\n",
    "\n",
    "\n",
    "\n",
    "# Example 2: Union of More Than Two Sets\n",
    "\n",
    "c = {1, 2}\n",
    "d = {3, 4}\n",
    "e = {4, 5}\n",
    "\n",
    "print(c.union(d, e))\n",
    "\n",
    "\n",
    "\n",
    "# Example 3: Using '|' Operator\n",
    "\n",
    "a = {1, 2}\n",
    "b = {2, 3}\n",
    "c = {3, 4}\n",
    "\n",
    "print(a | b | c) \n"
   ]
  },
  {
   "cell_type": "code",
   "execution_count": 33,
   "id": "038100b6-509a-40ae-b7bd-ffe0bd187161",
   "metadata": {},
   "outputs": [
    {
     "name": "stdout",
     "output_type": "stream",
     "text": [
      "{2, 3}\n",
      "{2, 3}\n",
      "{2, 3}\n"
     ]
    }
   ],
   "source": [
    "# INTERSECT\n",
    "\n",
    "#Syntax: .intersection(set2, set3, ...) and set1 & set2 & set3  # Using the `&` operator\n",
    "\n",
    "# The intersection() method returns a new set containing only the elements that are common to both (or more) sets.\n",
    "\n",
    "\n",
    "# Example 1: Basic intersection\n",
    "\n",
    "a = {1, 2, 3}\n",
    "b = {2, 3, 4}\n",
    "\n",
    "print(a.intersection(b))\n",
    "\n",
    "\n",
    "\n",
    "# Example 2: Intersection of Multiple Sets\n",
    "\n",
    "x = {1, 2, 3, 4}\n",
    "y = {2, 3, 5}\n",
    "z = {2, 3, 6}\n",
    "\n",
    "print(x.intersection(y, z))\n",
    "\n",
    "\n",
    "\n",
    "# Example 3: Using '&' Operator\n",
    "\n",
    "c = {1, 2, 3}\n",
    "d = {2, 3, 4}\n",
    "\n",
    "print(a & b)\n"
   ]
  },
  {
   "cell_type": "code",
   "execution_count": 35,
   "id": "bc337a12-e87b-42b1-8cce-8563cc088138",
   "metadata": {},
   "outputs": [
    {
     "name": "stdout",
     "output_type": "stream",
     "text": [
      "{1}\n",
      "{1, 4}\n",
      "{1}\n"
     ]
    }
   ],
   "source": [
    "# DIFFERENCE\n",
    "\n",
    "# Syntax: .difference(set2, set3, ...) & set1 - set2 - set3 # using the '-' operator\n",
    "\n",
    "# The difference() method returns a new set containing elements that are in the first set but NOT in the others.\n",
    "# Think of it as: 👉 \"What do I have that you don't?\"\n",
    "\n",
    "\n",
    "# Example 1: Basic difference\n",
    "\n",
    "a = {1, 2, 3}\n",
    "b = {2, 3, 4}\n",
    "\n",
    "print(a.difference(b))\n",
    "\n",
    "\n",
    "\n",
    "# Example 2: difference of Multiple Sets\n",
    "\n",
    "x = {1, 2, 3, 4}\n",
    "y = {2, 3, 5}\n",
    "z = {2, 3, 6}\n",
    "\n",
    "print(x.difference(y, z))\n",
    "\n",
    "\n",
    "\n",
    "# Example 3: Using '-' Operator\n",
    "\n",
    "c = {1, 2, 3}\n",
    "d = {2, 3, 4}\n",
    "\n",
    "print(a - b)\n",
    "\n"
   ]
  },
  {
   "cell_type": "code",
   "execution_count": 73,
   "id": "b8699f81-5d9a-4ecb-ac69-1c0860a393a8",
   "metadata": {},
   "outputs": [
    {
     "name": "stdout",
     "output_type": "stream",
     "text": [
      "{1, 2, 4, 5}\n",
      "{1, 2, 3}\n",
      "{3, 4, 5}\n",
      "{40, 10, 50, 30}\n"
     ]
    }
   ],
   "source": [
    "# SYMMETRIC DIFFERENCE\n",
    "\n",
    "# Syntax: .symmetric_difference(set) & set1 ^ set2 # using the '^' operator\n",
    "\n",
    "# The symmetric_difference() method returns a new set containing elements that are in either of the sets, but NOT in both.\n",
    "# 👉 In simple words: Everything that's different between two sets.\n",
    "# Common elements are excluded.\n",
    "\n",
    "\n",
    "# Example 1: Basic Symmetric\n",
    "\n",
    "a = {1, 2, 3}\n",
    "b = {3, 4, 5}\n",
    "\n",
    "print(a.symmetric_difference(b))\n",
    "print(a)\n",
    "print(b)\n",
    "\n",
    "\n",
    "# Example 2: Using the '^' operator\n",
    "\n",
    "x = {10, 20, 30}\n",
    "y = {20, 40, 50}\n",
    "\n",
    "print(x^y)\n"
   ]
  },
  {
   "cell_type": "raw",
   "id": "e59a9a34-372b-40f4-8a9a-e1713e201a26",
   "metadata": {},
   "source": [
    " INFO:\n",
    "\n",
    "\n",
    " Operation\t                        Method/Operator\t                           Meaning\n",
    "-----------                        -----------------                          ---------\n",
    "\n",
    "Difference (A - B)\t            a.difference(b) or a - b\t           Only elements in A not in B\n",
    "Symmetric Difference(A ^ B)\t    a.symmetric_difference(b) or a ^ b\t   Elements in A or B, but not both.\n",
    "\n"
   ]
  },
  {
   "cell_type": "code",
   "execution_count": 75,
   "id": "b7740c12-b2f4-4017-90ec-fe991907c2ad",
   "metadata": {},
   "outputs": [
    {
     "name": "stdout",
     "output_type": "stream",
     "text": [
      "{1, 2, 4, 5}\n",
      "{3, 4, 5}\n"
     ]
    }
   ],
   "source": [
    "# SYMMETRIC DIFFERENCE UPDATE\n",
    "\n",
    "# Syntax: .symmetric_difference_update(set2)\n",
    "\n",
    "# Instead of returning a new set, symmetric_difference_update() modifies the original set by keeping only elements that are in either set but not both.\n",
    "# It's like doing symmetric_difference() and then assigning the result back to the original set.\n",
    "\n",
    "\n",
    "# Example 1: \n",
    "\n",
    "a = {1, 2, 3}\n",
    "b = {3, 4, 5}\n",
    "\n",
    "a.symmetric_difference_update(b)\n",
    "print(a)\n",
    "print(b)\n"
   ]
  },
  {
   "cell_type": "code",
   "execution_count": 77,
   "id": "7111dffc-63dd-4633-b04b-e384d886ee1a",
   "metadata": {},
   "outputs": [
    {
     "name": "stdout",
     "output_type": "stream",
     "text": [
      "set()\n"
     ]
    }
   ],
   "source": [
    "# CLEAR\n",
    "\n",
    "# Syntax: .clear()\n",
    "\n",
    "# The clear() method removes all elements from a set, making it empty.\n",
    "# It modifies the original set — after clear(), the set becomes {} (an empty set).\n",
    "\n",
    "\n",
    "a = {1, 2, 3}\n",
    "a.clear()\n",
    "\n",
    "print(a)\n"
   ]
  },
  {
   "cell_type": "code",
   "execution_count": 81,
   "id": "2e9a8c03-b85d-4b5c-8246-9bc9e035490e",
   "metadata": {},
   "outputs": [
    {
     "name": "stdout",
     "output_type": "stream",
     "text": [
      "{'red', 'green', 'blue', 'yellow'}\n",
      "{'red', 'green', 'blue'}\n",
      "{'red', 'green', 'blue', 'yellow'}\n",
      "{'red', 'green', 'blue', 'yellow'}\n"
     ]
    }
   ],
   "source": [
    "# COPY\n",
    "\n",
    "# Syntax: .copy()\n",
    "\n",
    "# copy() in Python sets — super useful when you want to duplicate a set without changing the original! \n",
    "# .clear() might be used, like resetting a \"visited pages\" set in a web crawler?\n",
    "\n",
    "\n",
    "# Example 1: With Copy\n",
    "\n",
    "a = {\"red\", \"green\", \"blue\"}\n",
    "\n",
    "b = a.copy()\n",
    "a.add(\"yellow\")\n",
    "print(a)\n",
    "print(b)\n",
    "\n",
    "\n",
    "\n",
    "# Example 2: Without copy\n",
    "\n",
    "a = {\"red\", \"green\", \"blue\"}\n",
    "\n",
    "b = a\n",
    "a.add(\"yellow\")\n",
    "print(a)\n",
    "print(b)\n"
   ]
  },
  {
   "cell_type": "code",
   "execution_count": null,
   "id": "f7d3c955-4b2b-4ac4-a144-701c16bea3e0",
   "metadata": {},
   "outputs": [],
   "source": []
  },
  {
   "cell_type": "markdown",
   "id": "122f434c-4c2b-4037-87cb-acc304756dd2",
   "metadata": {},
   "source": [
    "# 5. DICTIONARY"
   ]
  },
  {
   "cell_type": "raw",
   "id": "cb40ba5d-8feb-4bfa-a387-e1ed7b04f375",
   "metadata": {},
   "source": [
    "A dictionary is a collection of key-value pairs.\n",
    "\n",
    "Each key is unique.\n",
    "\n",
    "Keys map to their values.\n",
    "\n",
    "You can retrieve, update, add, and delete values using the key.\n",
    "\n",
    "👉 Think of it like a real-world dictionary: You look up a word (key) to find its meaning (value)."
   ]
  },
  {
   "cell_type": "raw",
   "id": "1cf88c2c-be97-487a-a1ac-85edc57ef030",
   "metadata": {},
   "source": [
    " Useful Dictionary Methods:\n",
    "\n",
    " Method\t               What it Does\n",
    "--------              --------------\n",
    "\n",
    ".keys()\t             Returns all keys\n",
    ".values()\t         Returns all values\n",
    ".items()\t         Returns key-value pairs as tuples\n",
    ".get(key)\t         Returns value for key (safe access)\n",
    ".pop(key)\t         Removes item by key and returns its value\n",
    ".update(dict2)\t     Updates dictionary with another dictionary\n"
   ]
  },
  {
   "cell_type": "code",
   "execution_count": 84,
   "id": "6e8d9961-8481-4549-9b27-8c08dee775b5",
   "metadata": {},
   "outputs": [
    {
     "name": "stdout",
     "output_type": "stream",
     "text": [
      "['__class__', '__class_getitem__', '__contains__', '__delattr__', '__delitem__', '__dir__', '__doc__', '__eq__', '__format__', '__ge__', '__getattribute__', '__getitem__', '__getstate__', '__gt__', '__hash__', '__init__', '__init_subclass__', '__ior__', '__iter__', '__le__', '__len__', '__lt__', '__ne__', '__new__', '__or__', '__reduce__', '__reduce_ex__', '__repr__', '__reversed__', '__ror__', '__setattr__', '__setitem__', '__sizeof__', '__str__', '__subclasshook__', 'clear', 'copy', 'fromkeys', 'get', 'items', 'keys', 'pop', 'popitem', 'setdefault', 'update', 'values']\n"
     ]
    }
   ],
   "source": [
    "# To see the Dictionary Functions\n",
    "\n",
    "print (dir(dict))"
   ]
  },
  {
   "cell_type": "code",
   "execution_count": 92,
   "id": "cc76568b-5423-4adc-85aa-15a785002a9c",
   "metadata": {},
   "outputs": [
    {
     "name": "stdout",
     "output_type": "stream",
     "text": [
      "{'name': 'Alice', 'age': 25, 'city': 'New York'}\n",
      "{'Brand': ['Iphone', 'Samsung', 'Oppo'], 'Model': ['13 PRO', 'S21 Ultra', 'F21 PRO'], 'Year': ['2023', '2024', '2022']}\n"
     ]
    }
   ],
   "source": [
    "# Create a Dictionary\n",
    "\n",
    "Info = {\"name\": \"Alice\", \"age\": 25, \"city\": \"New York\"}     \n",
    "\n",
    "Mobile = {\"Brand\":[\"Iphone\", \"Samsung\", \"Oppo\"], \n",
    "          \"Model\":[\"13 PRO\", \"S21 Ultra\", \"F21 PRO\"], \n",
    "          \"Year\":[\"2023\", \"2024\", \"2022\"]}\n",
    "\n",
    "                              \n",
    "# Access a Dictionary\n",
    "\n",
    "print(Info)\n",
    "print(Mobile)"
   ]
  },
  {
   "cell_type": "code",
   "execution_count": 96,
   "id": "7095fafc-5258-4181-b632-6110ad01f74b",
   "metadata": {},
   "outputs": [
    {
     "name": "stdout",
     "output_type": "stream",
     "text": [
      "{}\n"
     ]
    }
   ],
   "source": [
    "# CLEAR\n",
    "\n",
    "# Syntax: .clear()\n",
    "\n",
    "# The clear() method removes all key-value pairs from a dictionary.\n",
    "# 👉 After using it, the dictionary becomes empty!\n",
    "\n",
    "\n",
    "Info = {\"name\": \"Alice\", \"age\": 25, \"city\": \"New York\"}\n",
    "\n",
    "Info.clear()\n",
    "print(Info)\n"
   ]
  },
  {
   "cell_type": "code",
   "execution_count": 100,
   "id": "f424709a-235b-4480-bef7-3ad08d0c07e9",
   "metadata": {},
   "outputs": [
    {
     "name": "stdout",
     "output_type": "stream",
     "text": [
      "{'name': 'Alice', 'age': 25, 'city': 'New York'}\n",
      "{'name': 'Alice', 'age': 25, 'city': 'New York'}\n"
     ]
    }
   ],
   "source": [
    "# COPY\n",
    "\n",
    "# Syntax: .copy()\n",
    "\n",
    "# The copy() method returns a shallow copy of the dictionary.\n",
    "# It creates a new dictionary with the same key-value pairs.\n",
    "# But it's not the same object in memory.\n",
    "\n",
    "\n",
    "a = {\"name\": \"Alice\", \"age\": 25, \"city\": \"New York\"}\n",
    "\n",
    "b = a.copy()\n",
    "print(a)\n",
    "print(b)\n"
   ]
  },
  {
   "cell_type": "code",
   "execution_count": 110,
   "id": "8da6d2d0-9dfd-408f-ae5e-592612a9f46c",
   "metadata": {},
   "outputs": [
    {
     "name": "stdout",
     "output_type": "stream",
     "text": [
      "{'name': None, 'age': None, 'city': None}\n",
      "{'apple': 'Fruit', 'banana': 'Fruit', 'cherry': 'Fruit'}\n",
      "{'Password': {'Hari', 'B'}, 'Name': {'Hari', 'B'}}\n"
     ]
    }
   ],
   "source": [
    "# FROMKEYS\n",
    "\n",
    "# Syntax: dict.fromkeys(keys, value)\n",
    "# keys:   A list, tuple, or any iterable containing keys.\n",
    "# value:  (Optional) A default value for all keys. Default is None if not given.\n",
    "\n",
    "\n",
    "# The fromkeys() method creates a new dictionary using:\n",
    "# A sequence of keys\n",
    "# And one default value for all keys\n",
    "# 👉 It’s a class method used directly on the dict class, not on an instance.\n",
    "\n",
    "\n",
    "\n",
    "# Example 1: Using fromkeys with Default Value\n",
    "\n",
    "keys = [\"name\", \"age\", \"city\"]\n",
    "default_value = None\n",
    "\n",
    "new_dict = dict.fromkeys(keys, default_value)\n",
    "print(new_dict)\n",
    "\n",
    "\n",
    "\n",
    "# Example 2: Custom Default Value\n",
    "\n",
    "a = [\"apple\", \"banana\", \"cherry\"]\n",
    "b = dict.fromkeys(a, 'Fruit')\n",
    "\n",
    "print(b)\n",
    "\n",
    "\n",
    "\n",
    "# Example 3:\n",
    "\n",
    "c = {\"Name\", \"Password\"}\n",
    "d = {\"Hari\", \"B\"}\n",
    "\n",
    "e = dict.fromkeys(c,d)\n",
    "print(e)\n"
   ]
  },
  {
   "cell_type": "code",
   "execution_count": 114,
   "id": "491b0e5e-c37c-4e18-8c21-bf30068d1fb6",
   "metadata": {},
   "outputs": [
    {
     "data": {
      "text/plain": [
       "'Alice'"
      ]
     },
     "execution_count": 114,
     "metadata": {},
     "output_type": "execute_result"
    }
   ],
   "source": [
    "# GET\n",
    "\n",
    "# Syntax: .get(key)\n",
    "\n",
    "# The get() method is used to access a value from a dictionary for a given key.\n",
    "# It avoids errors if the key is not found.\n",
    "# Instead of raising a KeyError, it returns a default value (which is None by default) if the key doesn’t exist.\n",
    "\n",
    "\n",
    "Info = {\"name\": \"Alice\", \"age\": 25, \"city\": \"New York\"} \n",
    "\n",
    "Info.get(\"name\")\n"
   ]
  },
  {
   "cell_type": "code",
   "execution_count": 116,
   "id": "6a1a819e-dd76-4582-89fd-69d90c38561b",
   "metadata": {},
   "outputs": [
    {
     "data": {
      "text/plain": [
       "dict_items([('name', 'Alice'), ('age', 25), ('city', 'New York')])"
      ]
     },
     "execution_count": 116,
     "metadata": {},
     "output_type": "execute_result"
    }
   ],
   "source": [
    "# ITEMS\n",
    "\n",
    "# Syntax: .items()\n",
    "\n",
    "# The items() method returns a view object that displays a list of (key, value) pairs in the dictionary.\n",
    "# 👉 It's a great way to loop through both keys and values.\n",
    "\n",
    "Info = {\"name\": \"Alice\", \"age\": 25, \"city\": \"New York\"} \n",
    "\n",
    "Info.items()\n"
   ]
  },
  {
   "cell_type": "code",
   "execution_count": 118,
   "id": "ebd4739a-2d7b-4047-b9af-3b37d82cd1e7",
   "metadata": {},
   "outputs": [
    {
     "data": {
      "text/plain": [
       "dict_keys(['name', 'age', 'city'])"
      ]
     },
     "execution_count": 118,
     "metadata": {},
     "output_type": "execute_result"
    }
   ],
   "source": [
    "# KEYS\n",
    "\n",
    "# Syntax: .keys()\n",
    "\n",
    "# The keys() method returns a view object that displays all the keys in the dictionary.\n",
    "# Useful when you need just the keys of a dictionary.\n",
    "\n",
    "Info = {\"name\": \"Alice\", \"age\": 25, \"city\": \"New York\"} \n",
    "\n",
    "Info.keys()\n"
   ]
  },
  {
   "cell_type": "code",
   "execution_count": 120,
   "id": "1269ef3a-4622-442c-93c3-f75baff64b13",
   "metadata": {},
   "outputs": [
    {
     "data": {
      "text/plain": [
       "dict_values(['Alice', 25, 'New York'])"
      ]
     },
     "execution_count": 120,
     "metadata": {},
     "output_type": "execute_result"
    }
   ],
   "source": [
    "# Values\n",
    "\n",
    "# Syntax: .values()\n",
    "\n",
    "# The values() method returns a view object that displays all the values in the dictionary.\n",
    "# Useful when you need just the values of a dictionary.\n",
    "\n",
    "Info = {\"name\": \"Alice\", \"age\": 25, \"city\": \"New York\"} \n",
    "\n",
    "Info.values()\n"
   ]
  },
  {
   "cell_type": "raw",
   "id": "d206d810-93b1-47b2-a23d-adfa9fb49888",
   "metadata": {},
   "source": [
    " INFO:\n",
    "\n",
    " Method\t        What It Does\t                          Returns\n",
    "--------       --------------                            ---------\n",
    "\n",
    "items()\t      Returns (key, value) pairs\t             dict_items\n",
    "keys()\t      Returns dictionary keys\t                 dict_keys\n",
    "values()\t  Returns dictionary values\t                 dict_values\n"
   ]
  },
  {
   "cell_type": "code",
   "execution_count": 136,
   "id": "220eabe8-8fcf-478c-94c8-1e4367384f28",
   "metadata": {},
   "outputs": [
    {
     "name": "stdout",
     "output_type": "stream",
     "text": [
      "{'name': 'Alice', 'city': 'New York'}\n"
     ]
    }
   ],
   "source": [
    "# POP\n",
    "\n",
    "# Syntax: .pop(key)\n",
    "\n",
    "# The pop() method removes a key from the dictionary and returns its value.\n",
    "# If the key is not found, it raises a KeyError, unless you provide a default value.\n",
    "# 👉 It’s a way to delete and retrieve an item at the same time!\n",
    "\n",
    "Info = {\"name\": \"Alice\", \"age\": 25, \"city\": \"New York\"} \n",
    "\n",
    "Info.pop(\"age\")\n",
    "print(Info)\n"
   ]
  },
  {
   "cell_type": "code",
   "execution_count": 138,
   "id": "2fa1ce6f-f6c6-4fe7-8a5f-e0f7d386cda4",
   "metadata": {},
   "outputs": [
    {
     "name": "stdout",
     "output_type": "stream",
     "text": [
      "{'name': 'Alice', 'age': 25}\n"
     ]
    }
   ],
   "source": [
    "# POP ITEM\n",
    "\n",
    "# Syntax: .popitem()\n",
    "\n",
    "# The popitem() method removes and returns the last inserted (key, value) pair from the dictionary.\n",
    "# If the dictionary is empty, it raises a KeyError.\n",
    "# No arguments are needed (you cannot specify a key).\n",
    "# 👉 It’s very useful for treating dictionaries like stacks (LIFO — Last In, First Out).\n",
    "\n",
    "\n",
    "Info = {\"name\": \"Alice\", \"age\": 25, \"city\": \"New York\"} \n",
    "\n",
    "Info.popitem()\n",
    "print(Info)\n"
   ]
  },
  {
   "cell_type": "code",
   "execution_count": 144,
   "id": "289c2f82-a030-43d7-9878-d67cf542614e",
   "metadata": {},
   "outputs": [
    {
     "name": "stdout",
     "output_type": "stream",
     "text": [
      "{'name': 'Alice', 'age': 25}\n",
      "{'name': 'Alice', 'age': 20}\n"
     ]
    }
   ],
   "source": [
    "# SET DEFAULT\n",
    "\n",
    "# Syntax: .setdefault(key, value)\n",
    "\n",
    "# The setdefault() method:\n",
    "# Checks if a key exists in the dictionary.\n",
    "# If the key exists ➝ returns its value.\n",
    "# If the key doesn’t exist ➝ adds the key with a default value, and returns that value.\n",
    "\n",
    "\n",
    "# Example 1: Key Already Exists:\n",
    "\n",
    "student = {\"name\": \"Alice\", \"age\": 25}\n",
    "\n",
    "student.setdefault(\"name\", \"Unknown\")\n",
    "print(student)  \n",
    "\n",
    "\n",
    "# Example 2: Key Doesn’t Exist\n",
    "\n",
    "student1 = {\"name\": \"Alice\"}\n",
    "\n",
    "student1.setdefault(\"age\", 20)\n",
    "print(student1)\n"
   ]
  },
  {
   "cell_type": "code",
   "execution_count": 160,
   "id": "2e659eb1-b33f-4278-8749-d66df1ef4ede",
   "metadata": {},
   "outputs": [
    {
     "name": "stdout",
     "output_type": "stream",
     "text": [
      "{'name': 'Alice', 'age': 25, 'City': 'NY'}\n",
      "{'name': 'Alice', 'age': 28}\n",
      "{'name': 'Alice', 'age': 25, 'dept': 'MECH', 'city': 'Chennai'}\n"
     ]
    }
   ],
   "source": [
    "# UPDATE\n",
    "\n",
    "# Syntax: .update(dict) & .update(key=value)\n",
    "\n",
    "# The update() method adds key-value pairs from one dictionary into another.\n",
    "# If a key already exists, its value gets overwritten.\n",
    "# If the key is new, it gets added\n",
    "\n",
    "\n",
    "# Example 1: Update a new key & value\n",
    "\n",
    "student = {\"name\": \"Alice\", \"age\": 25}\n",
    "\n",
    "student.update(City = \"NY\")\n",
    "print(student)  \n",
    "\n",
    "\n",
    "\n",
    "# Example 2: Update a existing key & value\n",
    "\n",
    "student1 = {\"name\": \"Alice\", \"age\": 25}\n",
    "\n",
    "student1.update(age = 28)\n",
    "print(student1)  \n",
    "\n",
    "\n",
    "\n",
    "# Example 3: Merging Two Dictionaries\n",
    "\n",
    "a = {\"name\": \"Alice\", \"age\": 25}\n",
    "b = {\"dept\": \"MECH\", \"city\": \"Chennai\"}\n",
    "\n",
    "a.update(b)\n",
    "print(a)\n"
   ]
  },
  {
   "cell_type": "code",
   "execution_count": null,
   "id": "bb25130c-74f6-4f6f-acac-41a980947e80",
   "metadata": {},
   "outputs": [],
   "source": []
  }
 ],
 "metadata": {
  "kernelspec": {
   "display_name": "Python [conda env:base] *",
   "language": "python",
   "name": "conda-base-py"
  },
  "language_info": {
   "codemirror_mode": {
    "name": "ipython",
    "version": 3
   },
   "file_extension": ".py",
   "mimetype": "text/x-python",
   "name": "python",
   "nbconvert_exporter": "python",
   "pygments_lexer": "ipython3",
   "version": "3.12.7"
  }
 },
 "nbformat": 4,
 "nbformat_minor": 5
}
