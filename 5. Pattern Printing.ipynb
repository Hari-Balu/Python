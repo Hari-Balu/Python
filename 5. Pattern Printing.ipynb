{
 "cells": [
  {
   "cell_type": "markdown",
   "id": "041eded9-59c4-470b-9601-c19f0ccdeacc",
   "metadata": {},
   "source": [
    "# PATTERN PRINTING"
   ]
  },
  {
   "cell_type": "markdown",
   "id": "67357f58-5760-405d-a9df-b1b7eeca8db2",
   "metadata": {},
   "source": [
    "Usually done using nested loops:\n",
    "\n",
    "Outer loop → rows\n",
    "\n",
    "Inner loop → columns (stars, numbers, spaces)"
   ]
  },
  {
   "cell_type": "code",
   "execution_count": 3,
   "id": "070fb332-dd09-42c1-8a9c-dcd77490b808",
   "metadata": {},
   "outputs": [
    {
     "name": "stdout",
     "output_type": "stream",
     "text": [
      "*  *  *  *  *  \n",
      "*  *  *  *  *  \n",
      "*  *  *  *  *  \n",
      "*  *  *  *  *  \n",
      "*  *  *  *  *  \n"
     ]
    }
   ],
   "source": [
    "# Example 1: Print a star (*) with square pattern\n",
    "\n",
    "for i in range(5):\n",
    "\n",
    "    print('*  ' * 5)\n",
    "    "
   ]
  },
  {
   "cell_type": "code",
   "execution_count": 7,
   "id": "d06eda62-0639-4def-9c38-8699d4dbec47",
   "metadata": {},
   "outputs": [
    {
     "name": "stdout",
     "output_type": "stream",
     "text": [
      "* \n",
      "* * \n",
      "* * * \n",
      "* * * * \n",
      "* * * * * \n"
     ]
    }
   ],
   "source": [
    "# Example 2: Print a simple star (*) increasing from the left side\n",
    "\n",
    "for i in range(5):\n",
    "    \n",
    "    for j in range(i+1):\n",
    "        print('*', end=' ')\n",
    "        \n",
    "    print()\n",
    "    "
   ]
  },
  {
   "cell_type": "code",
   "execution_count": 11,
   "id": "0b22edfc-a948-457d-ae90-79cc3f1aabd5",
   "metadata": {},
   "outputs": [
    {
     "name": "stdout",
     "output_type": "stream",
     "text": [
      "1 \n",
      "1 2 \n",
      "1 2 3 \n",
      "1 2 3 4 \n",
      "1 2 3 4 5 \n"
     ]
    }
   ],
   "source": [
    "# Example 3: Print a Number Pattern\n",
    "\n",
    "n = 5\n",
    "\n",
    "for i in range(1, n+1):\n",
    "    \n",
    "    for j in range(1, i+1):\n",
    "        print(j, end=' ')\n",
    "        \n",
    "    print()\n",
    "    "
   ]
  },
  {
   "cell_type": "code",
   "execution_count": 15,
   "id": "37727fda-ca76-4270-adf6-838fa2f31668",
   "metadata": {},
   "outputs": [
    {
     "name": "stdout",
     "output_type": "stream",
     "text": [
      "* * * * * \n",
      "* * * * \n",
      "* * * \n",
      "* * \n",
      "* \n"
     ]
    }
   ],
   "source": [
    "# Example 4: Print a simple star (*) decreasing from the right side\n",
    "\n",
    "for i in range(5):\n",
    "    \n",
    "    for j in range(5-i):\n",
    "        print('*', end=' ')\n",
    "        \n",
    "    print()\n",
    "    "
   ]
  },
  {
   "cell_type": "code",
   "execution_count": 19,
   "id": "3648f8ad-326d-4f22-b434-917fafda043c",
   "metadata": {},
   "outputs": [
    {
     "name": "stdout",
     "output_type": "stream",
     "text": [
      "    * \n",
      "   * * \n",
      "  * * * \n",
      " * * * * \n",
      "* * * * * \n"
     ]
    }
   ],
   "source": [
    "# Example 5: Pyramid Pattern\n",
    "\n",
    "n = 5\n",
    "\n",
    "for i in range(n):\n",
    "    \n",
    "    print(' ' * (n-i-1) + '* ' * (i+1))\n"
   ]
  },
  {
   "cell_type": "code",
   "execution_count": null,
   "id": "8a6aa8f9-cad8-4d0c-aedf-812af20dd5ba",
   "metadata": {},
   "outputs": [],
   "source": []
  },
  {
   "cell_type": "code",
   "execution_count": null,
   "id": "05c565b0-02cb-45ba-a5a3-2509dd115f89",
   "metadata": {},
   "outputs": [],
   "source": []
  }
 ],
 "metadata": {
  "kernelspec": {
   "display_name": "Python [conda env:base] *",
   "language": "python",
   "name": "conda-base-py"
  },
  "language_info": {
   "codemirror_mode": {
    "name": "ipython",
    "version": 3
   },
   "file_extension": ".py",
   "mimetype": "text/x-python",
   "name": "python",
   "nbconvert_exporter": "python",
   "pygments_lexer": "ipython3",
   "version": "3.12.7"
  }
 },
 "nbformat": 4,
 "nbformat_minor": 5
}
