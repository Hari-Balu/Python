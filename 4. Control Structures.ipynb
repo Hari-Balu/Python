{
 "cells": [
  {
   "cell_type": "markdown",
   "id": "b1d82280-5f47-475a-894f-cbafffac45e8",
   "metadata": {},
   "source": [
    "# CONTROL STRUCTURES"
   ]
  },
  {
   "cell_type": "raw",
   "id": "59c483b7-39b4-49e9-9cbe-ab6a91dc5b2e",
   "metadata": {},
   "source": [
    "Control structures control the flow of your program.\n",
    "They help your code make decisions, repeat actions, and jump around based on conditions.\n",
    "\n",
    "Main Types of Control Structures:\n",
    "\n",
    "     Type                    Description                   Example\n",
    "\n",
    "1. Conditional\t      Decide based on conditions\t    if, elif, else\n",
    "2. Looping\t          Repeat actions multiple times\t    for, while\n",
    "3. Jump Statements\t  Change flow inside loops\t        break, continue, pass\n"
   ]
  },
  {
   "cell_type": "markdown",
   "id": "6cec6822-1ad4-4c5b-bedf-fbd3053bff40",
   "metadata": {},
   "source": [
    "## 1. Conditional Statements"
   ]
  },
  {
   "cell_type": "markdown",
   "id": "d00ef0fe-7450-4c23-a7d8-6f0992ab8a6d",
   "metadata": {},
   "source": [
    "\n",
    "1. if ➔ Check a condition. If it’s True, run this block.\n",
    "\n",
    "2. elif ➔ (Else If) Check another condition if the first if is False.\n",
    "\n",
    "3. else ➔ If none of the above conditions are True, do this.\n",
    "\n",
    "4. It’s like setting up rules: \"If not this, then that, otherwise something else.\"\n"
   ]
  },
  {
   "cell_type": "raw",
   "id": "6edc14d7-66a8-46cb-bb8c-27a3b2cba7cb",
   "metadata": {},
   "source": [
    "Syntax:\n",
    "\n",
    "        if condition:\n",
    "        # code to run if condition is True\n",
    "\n",
    "        elif another_condition:\n",
    "        # code to run if this condition is True\n",
    "\n",
    "        else:\n",
    "        # code to run if all conditions are False\n"
   ]
  },
  {
   "cell_type": "markdown",
   "id": "14b088ed-94aa-4ca4-af84-0df8975b91d2",
   "metadata": {},
   "source": [
    "#### 1.1 IF "
   ]
  },
  {
   "cell_type": "markdown",
   "id": "beb385c5-eeec-4702-bd6a-5837ba57439f",
   "metadata": {},
   "source": [
    "1. if is used to make a decision.\n",
    "\n",
    "2. It checks a condition ➔ if it is True, Python runs the code inside.\n",
    "\n",
    "3. If False, it skips the code."
   ]
  },
  {
   "cell_type": "code",
   "execution_count": 16,
   "id": "626ac360-b2c8-4166-b0e9-37d4f1aee3a4",
   "metadata": {},
   "outputs": [
    {
     "name": "stdout",
     "output_type": "stream",
     "text": [
      "Higher Value\n"
     ]
    }
   ],
   "source": [
    "# Example 1: \n",
    "\n",
    "a = 50\n",
    "\n",
    "if a > 30:\n",
    "\n",
    "    print('Higher Value')\n",
    "    "
   ]
  },
  {
   "cell_type": "code",
   "execution_count": 20,
   "id": "6020c70d-fe73-4fcb-8d9c-666639db8602",
   "metadata": {},
   "outputs": [],
   "source": [
    "# Example 2: \n",
    "\n",
    "a = 50\n",
    "\n",
    "if a > 60:   # Condition fails, it won't go inside the statement.\n",
    "\n",
    "    print('Higher Value')\n",
    "    "
   ]
  },
  {
   "cell_type": "code",
   "execution_count": 27,
   "id": "cd29273d-6c40-485f-8385-437e254d5a13",
   "metadata": {},
   "outputs": [
    {
     "name": "stdout",
     "output_type": "stream",
     "text": [
      "You are eligible to vote!\n"
     ]
    }
   ],
   "source": [
    "# Example 3: \n",
    "\n",
    "age = 20\n",
    "\n",
    "if age >= 18:\n",
    "    \n",
    "    print(\"You are eligible to vote!\")\n",
    "    "
   ]
  },
  {
   "cell_type": "markdown",
   "id": "7e9eea0e-b60a-40a1-a12e-5b2675f2ddf4",
   "metadata": {},
   "source": [
    "#### 1.2 ELSE"
   ]
  },
  {
   "cell_type": "markdown",
   "id": "b1ab24be-4900-40f6-947d-44e37da88211",
   "metadata": {},
   "source": [
    "1. else catches everything that isn’t caught by the if or elif conditions.\n",
    "\n",
    "2. If no condition is True, then Python will run the else block.\n",
    "\n",
    "3. ✅ You use else when you want a \"default\" action if all other conditions fail.\n"
   ]
  },
  {
   "cell_type": "code",
   "execution_count": 25,
   "id": "d590b3e9-84a0-4dae-b426-9246b0290107",
   "metadata": {},
   "outputs": [
    {
     "name": "stdout",
     "output_type": "stream",
     "text": [
      "Lower value\n"
     ]
    }
   ],
   "source": [
    "# Example 1: \n",
    "\n",
    "a = 50\n",
    "\n",
    "if a > 70:\n",
    "\n",
    "    print('Higher Value')\n",
    "\n",
    "else:\n",
    "\n",
    "    print('Lower value')\n",
    "    "
   ]
  },
  {
   "cell_type": "code",
   "execution_count": 29,
   "id": "ee3b5734-820c-44fb-b0b6-6927a2a7a652",
   "metadata": {},
   "outputs": [
    {
     "name": "stdout",
     "output_type": "stream",
     "text": [
      "You are too young to vote!\n"
     ]
    }
   ],
   "source": [
    "# Example 2: \n",
    "\n",
    "age = 16\n",
    "\n",
    "if age >= 18:\n",
    "    \n",
    "    print(\"You can vote!\")\n",
    "    \n",
    "else:\n",
    "    \n",
    "    print(\"You are too young to vote!\")\n",
    "    "
   ]
  },
  {
   "cell_type": "markdown",
   "id": "8db66c66-f1d1-42ca-baed-0543f0de3ad1",
   "metadata": {},
   "source": [
    "#### 1.3 ELIF"
   ]
  },
  {
   "cell_type": "markdown",
   "id": "1c59e99c-eb8f-4aec-bc46-d369dc80f777",
   "metadata": {},
   "source": [
    "1. elif stands for \"else if\".\n",
    "\n",
    "2. It lets you check multiple conditions after the first if.\n",
    "\n",
    "3. If the first if is False, Python checks each elif one by one.\n",
    "\n",
    "4. The first True condition will run, then Python stops checking.\n"
   ]
  },
  {
   "cell_type": "code",
   "execution_count": 50,
   "id": "25767e16-c972-495b-ac64-57569d36e326",
   "metadata": {},
   "outputs": [
    {
     "name": "stdout",
     "output_type": "stream",
     "text": [
      "Weekend\n"
     ]
    }
   ],
   "source": [
    "# Example 1: \n",
    "\n",
    "\n",
    "day = 'Sunday'\n",
    "\n",
    "if day == 'Monday':\n",
    "\n",
    "     print('Weekday')\n",
    "\n",
    "elif day == 'Saturday':\n",
    "\n",
    "     print('Weekend')\n",
    "\n",
    "elif day == 'Sunday':\n",
    "\n",
    "    print('Weekend')\n",
    "\n",
    "else:\n",
    "\n",
    "    print('Unkownday')\n",
    "     "
   ]
  },
  {
   "cell_type": "code",
   "execution_count": 55,
   "id": "e9a7922a-858a-4bd5-bbbc-bb05d50cd9ff",
   "metadata": {},
   "outputs": [
    {
     "name": "stdout",
     "output_type": "stream",
     "text": [
      "Nice weather!\n"
     ]
    }
   ],
   "source": [
    "# Example 2:\n",
    "\n",
    "temperature = 30\n",
    "\n",
    "if temperature > 40:\n",
    "    \n",
    "    print(\"It's very hot!\")\n",
    "    \n",
    "elif temperature > 30:\n",
    "    \n",
    "    print(\"It's hot!\")\n",
    "    \n",
    "elif temperature > 20:\n",
    "    \n",
    "    print(\"Nice weather!\")\n",
    "    \n",
    "else:\n",
    "    \n",
    "    print(\"It's cold!\")\n",
    "    "
   ]
  },
  {
   "cell_type": "code",
   "execution_count": 59,
   "id": "e85e6121-d91b-4779-9629-6b16ad3135b6",
   "metadata": {},
   "outputs": [
    {
     "name": "stdin",
     "output_type": "stream",
     "text": [
      "Enter the colour:  Green\n"
     ]
    },
    {
     "name": "stdout",
     "output_type": "stream",
     "text": [
      "You can go...!\n"
     ]
    }
   ],
   "source": [
    "# Example 3:\n",
    "\n",
    "traffic = input('Enter the colour: ')\n",
    "\n",
    "if traffic == 'Red':\n",
    "\n",
    "    print('Stop!')\n",
    "\n",
    "elif traffic == 'Yellow':\n",
    "\n",
    "    print('Ready')\n",
    "\n",
    "else:\n",
    "\n",
    "    print('You can go...!')\n",
    "    \n"
   ]
  },
  {
   "cell_type": "markdown",
   "id": "849801cf-365e-4228-be6a-cc930f600587",
   "metadata": {},
   "source": [
    "## 2. Looping Statements"
   ]
  },
  {
   "cell_type": "markdown",
   "id": "ea348f08-fb80-4417-bc9a-dfe67b2449fe",
   "metadata": {},
   "source": [
    "Looping is when you want to repeat a block of code multiple times.\n",
    "\n",
    "Instead of writing the same code again and again ➔ you use a loop.\n",
    "\n",
    "Type of Loop:\t\n",
    "\n",
    "1. for loop   -\tRepeat for each item in a sequence (like list, string, etc.)\n",
    "2. while loop -\tRepeat while a condition is True"
   ]
  },
  {
   "cell_type": "raw",
   "id": "3cf4f3d4-812c-4564-89e8-81157f824a61",
   "metadata": {},
   "source": [
    "1. Syntax: For Loop\n",
    "\n",
    "    for variable in sequence:\n",
    "    # code to repeat\n",
    "\n",
    "2. Syntax: While Loop\n",
    "\n",
    "    while condition:\n",
    "    # code to repeat\n"
   ]
  },
  {
   "cell_type": "markdown",
   "id": "7593e0ec-f718-413d-99f9-64afe98ab6b3",
   "metadata": {},
   "source": [
    "#### 2.1 FOR "
   ]
  },
  {
   "cell_type": "markdown",
   "id": "88a41714-647c-4a65-a1f0-c800906c03b6",
   "metadata": {},
   "source": [
    "1. A for loop is used to iterate (go one by one) over a sequence (like list, tuple, string, range, etc.).\n",
    "\n",
    "2. It repeats the block of code for every element in the sequence."
   ]
  },
  {
   "cell_type": "code",
   "execution_count": 77,
   "id": "4ca030fd-537f-40b4-9f03-f883fb48365f",
   "metadata": {},
   "outputs": [
    {
     "name": "stdout",
     "output_type": "stream",
     "text": [
      "apple\n",
      "banana\n",
      "cherry\n"
     ]
    }
   ],
   "source": [
    "# Example 1: Loop through a list\n",
    "\n",
    "fruits = [\"apple\", \"banana\", \"cherry\"]\n",
    "\n",
    "for fruit in fruits:\n",
    "    \n",
    "    print(fruit)\n",
    "    "
   ]
  },
  {
   "cell_type": "code",
   "execution_count": 79,
   "id": "08592d8d-578d-45da-ac51-649d1a040888",
   "metadata": {},
   "outputs": [
    {
     "name": "stdout",
     "output_type": "stream",
     "text": [
      "h\n",
      "e\n",
      "l\n",
      "l\n",
      "o\n"
     ]
    }
   ],
   "source": [
    "# Example 2: Loop through a string\n",
    "\n",
    "for letter in \"hello\":\n",
    "    \n",
    "    print(letter)\n",
    "    "
   ]
  },
  {
   "cell_type": "code",
   "execution_count": 81,
   "id": "db13d330-bfed-440a-8b6e-f7886e1c1776",
   "metadata": {},
   "outputs": [
    {
     "name": "stdout",
     "output_type": "stream",
     "text": [
      "0\n",
      "1\n",
      "2\n",
      "3\n",
      "4\n",
      "5\n",
      "6\n",
      "7\n",
      "8\n",
      "9\n"
     ]
    }
   ],
   "source": [
    "#  Example 3: Using range()\n",
    "\n",
    "for i in range(10):\n",
    "\n",
    "    print(i)\n",
    "    "
   ]
  },
  {
   "cell_type": "code",
   "execution_count": 83,
   "id": "2def3ce3-5e9c-493d-9e3d-496ca2a34cc4",
   "metadata": {},
   "outputs": [
    {
     "name": "stdout",
     "output_type": "stream",
     "text": [
      "1\n",
      "2\n",
      "3\n",
      "4\n",
      "5\n",
      "6\n",
      "7\n",
      "8\n",
      "9\n"
     ]
    }
   ],
   "source": [
    "#  Example 4: Using range(start, end) \n",
    "\n",
    "for splice in range(1, 10):\n",
    "\n",
    "    print(splice)\n",
    "    "
   ]
  },
  {
   "cell_type": "code",
   "execution_count": 87,
   "id": "8559dd80-1347-4487-bce2-2a90e911c31e",
   "metadata": {},
   "outputs": [
    {
     "name": "stdout",
     "output_type": "stream",
     "text": [
      "1\n",
      "3\n",
      "5\n",
      "7\n",
      "9\n"
     ]
    }
   ],
   "source": [
    "#  Example 5: Using range(start, end, step) \n",
    "\n",
    "for splice in range(1, 10, 2):\n",
    "\n",
    "    print(splice)"
   ]
  },
  {
   "cell_type": "code",
   "execution_count": 105,
   "id": "f650f6cb-f66d-4457-8b36-4538d901d648",
   "metadata": {},
   "outputs": [
    {
     "name": "stdout",
     "output_type": "stream",
     "text": [
      "1 1\n",
      "1 2\n",
      "1 3\n",
      "2 1\n",
      "2 2\n",
      "2 3\n",
      "3 1\n",
      "3 2\n",
      "3 3\n"
     ]
    }
   ],
   "source": [
    "#  Example 6: Using Nested for Loops\n",
    "\n",
    "for i in range(1, 4):\n",
    "  for j in range(1, 4):\n",
    "      \n",
    "     print(i, j)\n",
    "    "
   ]
  },
  {
   "cell_type": "markdown",
   "id": "80108289-7bde-43e7-bbe5-b3303f08edd5",
   "metadata": {},
   "source": [
    "#### 2.2 WHILE"
   ]
  },
  {
   "cell_type": "markdown",
   "id": "6529445e-4d9b-45e1-bbea-14f5d8f62dfb",
   "metadata": {},
   "source": [
    "1. A while loop keeps running as long as a condition is True.\n",
    "\n",
    "2. It checks the condition before each loop.\n",
    "\n",
    "3. When the condition becomes False, the loop stops."
   ]
  },
  {
   "cell_type": "code",
   "execution_count": 1,
   "id": "df1a2482-2aab-413b-8712-e721a7ce4cdc",
   "metadata": {},
   "outputs": [
    {
     "name": "stdout",
     "output_type": "stream",
     "text": [
      "0\n",
      "1\n",
      "2\n",
      "3\n",
      "4\n"
     ]
    }
   ],
   "source": [
    "# Example 1: Ascending\n",
    "\n",
    "count = 0\n",
    "\n",
    "while count < 5:\n",
    "\n",
    "    print(count)    \n",
    "    count += 1   \n",
    "     "
   ]
  },
  {
   "cell_type": "code",
   "execution_count": 3,
   "id": "6958b3dd-cf39-43ee-91e5-8830102e41e4",
   "metadata": {},
   "outputs": [
    {
     "name": "stdin",
     "output_type": "stream",
     "text": [
      "Enter the password:  1234\n",
      "Enter the password:  open123\n"
     ]
    },
    {
     "name": "stdout",
     "output_type": "stream",
     "text": [
      "Access Granted !\n"
     ]
    }
   ],
   "source": [
    "# Example 2: Keeps asking for password until the correct one is entered\n",
    "\n",
    "password = ''\n",
    "\n",
    "while password != 'open123':    \n",
    "\n",
    "        password = input('Enter the password: ') \n",
    "\n",
    "print('Access Granted !')\n"
   ]
  },
  {
   "cell_type": "code",
   "execution_count": 5,
   "id": "9ad8bd7b-8aca-42d7-872e-92c1318a2a82",
   "metadata": {},
   "outputs": [
    {
     "name": "stdout",
     "output_type": "stream",
     "text": [
      "5\n",
      "4\n",
      "3\n",
      "2\n",
      "1\n"
     ]
    }
   ],
   "source": [
    "# Example 3: Descending\n",
    "\n",
    "count = 5\n",
    "\n",
    "while count > 0:\n",
    "\n",
    "    print(count)    \n",
    "    count -= 1   \n"
   ]
  },
  {
   "cell_type": "markdown",
   "id": "3d9b453f-0d9f-406e-bf89-ea3464a3eb76",
   "metadata": {},
   "source": [
    "## 3. JUMP STATEMENTS"
   ]
  },
  {
   "cell_type": "markdown",
   "id": "1582a10a-ac92-4cb9-83ea-51f41b0c2dde",
   "metadata": {},
   "source": [
    "Jump Statements in Python, which allow us to control the flow of a program in loops and conditionals.\n",
    "\n",
    "There are three main jump statements in Python:\n",
    "\n",
    "1. break\n",
    "2. continue\n",
    "3. pass\n",
    "\n",
    "Each of these statements has a specific role in controlling the flow of the program"
   ]
  },
  {
   "cell_type": "raw",
   "id": "2ad80ee9-20e6-458c-9152-b66913dd7746",
   "metadata": {},
   "source": [
    "1. Break Syntax:\n",
    "\n",
    "        while condition:\n",
    "    if some_condition:\n",
    "        break  # Exit the loop\n",
    "    # rest of the code\n",
    "\n",
    "\n",
    "2. Continue Syntax:\n",
    "\n",
    "        while condition:\n",
    "            if some_condition:\n",
    "                continue  # Skip this iteration\n",
    "            # rest of the code\n",
    "\n",
    "\n",
    "3. Pass Syntax:\n",
    "\n",
    "        if condition:\n",
    "            pass  # Do nothing\n"
   ]
  },
  {
   "cell_type": "markdown",
   "id": "49f84e58-8715-4bd1-842a-d44197eed467",
   "metadata": {},
   "source": [
    "#### 3.1 BREAK"
   ]
  },
  {
   "cell_type": "markdown",
   "id": "3582a429-3c68-4819-9af1-817859338553",
   "metadata": {},
   "source": [
    "1. 'break' is used to exit the loop immediately.\n",
    "   \n",
    "2. Once the break statement is executed, the loop stops, and the program moves to the next line of code after the loop."
   ]
  },
  {
   "cell_type": "code",
   "execution_count": 1,
   "id": "10f348ec-557a-4e79-8c1e-0ed85ad4c987",
   "metadata": {},
   "outputs": [
    {
     "name": "stdout",
     "output_type": "stream",
     "text": [
      "0\n",
      "1\n",
      "2\n",
      "3\n"
     ]
    }
   ],
   "source": [
    "# Example 1: Using break in while loop\n",
    "\n",
    "count = 0\n",
    "\n",
    "while count < 5:\n",
    "    print(count)\n",
    "\n",
    "    if count == 3:\n",
    "        break\n",
    "\n",
    "    count += 1\n"
   ]
  },
  {
   "cell_type": "code",
   "execution_count": 3,
   "id": "5c3a6568-9d45-4287-9c28-e5a788d9d898",
   "metadata": {},
   "outputs": [
    {
     "name": "stdout",
     "output_type": "stream",
     "text": [
      "2\n",
      "3\n"
     ]
    }
   ],
   "source": [
    "# Example 2: Using break in for loop\n",
    "\n",
    "for i in range(2,8):\n",
    "    \n",
    "    if i == 4:\n",
    "        break\n",
    "\n",
    "    print(i)\n",
    "    "
   ]
  },
  {
   "cell_type": "markdown",
   "id": "4c872ec0-c01b-479f-b459-d75e55a04dc9",
   "metadata": {},
   "source": [
    "#### 3.2 CONTINUE"
   ]
  },
  {
   "cell_type": "markdown",
   "id": "a05be941-6d4e-47f2-b48c-bd77999edfc3",
   "metadata": {},
   "source": [
    "1. continue skips the current iteration of the loop.\n",
    "\n",
    "2. It jumps directly to the next iteration.\n",
    "\n",
    "3. It doesn’t exit the loop - just skips one iteration.\n"
   ]
  },
  {
   "cell_type": "code",
   "execution_count": 7,
   "id": "f67a8bd5-4f49-4a47-bd09-35fb553cd1ca",
   "metadata": {},
   "outputs": [
    {
     "name": "stdout",
     "output_type": "stream",
     "text": [
      "1\n",
      "2\n",
      "4\n",
      "5\n",
      "6\n",
      "7\n",
      "8\n"
     ]
    }
   ],
   "source": [
    "# Example 1: Using continue in a while loop\n",
    "\n",
    "count = 0\n",
    "\n",
    "while count < 8:\n",
    " count += 1\n",
    "\n",
    " if count == 3:\n",
    "    continue\n",
    "     \n",
    " print(count)  \n",
    "         "
   ]
  },
  {
   "cell_type": "code",
   "execution_count": 29,
   "id": "ac59c881-444e-4c6a-9114-f72762678e3e",
   "metadata": {},
   "outputs": [
    {
     "name": "stdout",
     "output_type": "stream",
     "text": [
      "Satish\n",
      "Balu\n"
     ]
    }
   ],
   "source": [
    "# Example 2: Using continue in a for loop\n",
    "\n",
    "name = ('Hari', 'Satish', 'Balu')\n",
    "\n",
    "for i in name:\n",
    "\n",
    "    if i == 'Hari':\n",
    "        continue\n",
    "\n",
    "    print(i)\n"
   ]
  },
  {
   "cell_type": "code",
   "execution_count": 12,
   "id": "8da48449-b4de-43fa-9751-827401e6f7bb",
   "metadata": {},
   "outputs": [
    {
     "name": "stdin",
     "output_type": "stream",
     "text": [
      "Guess the number between 1 and 10:  8\n"
     ]
    },
    {
     "name": "stdout",
     "output_type": "stream",
     "text": [
      "Too high! Try again.\n"
     ]
    },
    {
     "name": "stdin",
     "output_type": "stream",
     "text": [
      "Guess the number between 1 and 10:  2\n"
     ]
    },
    {
     "name": "stdout",
     "output_type": "stream",
     "text": [
      "Too low! Try again.\n"
     ]
    },
    {
     "name": "stdin",
     "output_type": "stream",
     "text": [
      "Guess the number between 1 and 10:  5\n"
     ]
    },
    {
     "name": "stdout",
     "output_type": "stream",
     "text": [
      "You guessed it! You win!\n"
     ]
    }
   ],
   "source": [
    "# Break & Continue Real life example \n",
    "\n",
    "secret_number = 5\n",
    "attempts = 0\n",
    "\n",
    "while attempts < 3:\n",
    "    guess = int(input(\"Guess the number between 1 and 10: \"))\n",
    "    attempts += 1\n",
    "    if guess == secret_number:\n",
    "        print(\"You guessed it! You win!\")\n",
    "        break  # Exit the loop when guessed correctly\n",
    "    elif guess > secret_number:\n",
    "        print(\"Too high! Try again.\")\n",
    "        continue  # Skip this iteration and ask the user again\n",
    "    elif guess < secret_number:\n",
    "        print(\"Too low! Try again.\")\n",
    "        continue  # Skip this iteration and ask the user again\n",
    "else:\n",
    "    print(\"Sorry! You didn't guess it in 3 attempts.\")\n",
    "    "
   ]
  },
  {
   "cell_type": "markdown",
   "id": "b222400b-f934-4f34-a40a-ccf5dc37d449",
   "metadata": {},
   "source": [
    "#### 3.3 PASS"
   ]
  },
  {
   "cell_type": "markdown",
   "id": "466d1142-463c-41fb-93fe-2dc34ea6e97b",
   "metadata": {},
   "source": [
    "1. The pass statement is a placeholder. It does nothing when executed.\n",
    "\n",
    "2. It's used where a statement is syntactically required but you don’t want to execute anything. It’s like a \"do nothing\" statement.\n",
    "\n",
    "3. Typically used in empty function bodies, classes, or loops when you want to leave them for later implementation."
   ]
  },
  {
   "cell_type": "code",
   "execution_count": 19,
   "id": "e745edf0-c3ff-4170-950d-76a2c2a108d1",
   "metadata": {},
   "outputs": [
    {
     "name": "stdout",
     "output_type": "stream",
     "text": [
      "0\n",
      "1\n",
      "2\n",
      "3\n",
      "4\n"
     ]
    }
   ],
   "source": [
    "# Example in a Loop:\n",
    "\n",
    "for i in range(5):\n",
    "    if i == 2:\n",
    "        pass  # Do nothing when i equals 2\n",
    "    print(i)\n",
    "    "
   ]
  },
  {
   "cell_type": "code",
   "execution_count": 25,
   "id": "2877661f-c69f-4d2a-8789-9dd8f7363de8",
   "metadata": {},
   "outputs": [
    {
     "name": "stdout",
     "output_type": "stream",
     "text": [
      "Odd\n"
     ]
    }
   ],
   "source": [
    "# Example in an if:\n",
    "\n",
    "i = 5\n",
    "\n",
    "if i % 2 == 0:\n",
    "\n",
    "    print('Even')\n",
    "    pass  \n",
    "\n",
    "else:\n",
    "\n",
    "    print('Odd')\n",
    "    "
   ]
  },
  {
   "cell_type": "markdown",
   "id": "cf1704a8-6ac8-4c2d-bdf2-dcf03b695803",
   "metadata": {},
   "source": [
    "## TERNERY OPERATOR"
   ]
  },
  {
   "cell_type": "markdown",
   "id": "cb257239-3e9f-40bc-9fa0-149e4e394ce7",
   "metadata": {},
   "source": [
    "A ternary operator is a one-line shorthand for writing if-else conditions.\n",
    "\n",
    "It's also called a conditional expression.\n",
    "\n",
    "Instead of writing multiple lines with if and else, you can write it all in one line."
   ]
  },
  {
   "cell_type": "raw",
   "id": "2579f845-8924-4fb1-8dae-e8d697dc2e94",
   "metadata": {},
   "source": [
    "Syntax:\n",
    "\n",
    "        value_if_true if condition else value_if_false\n"
   ]
  },
  {
   "cell_type": "code",
   "execution_count": 4,
   "id": "17d104db-4fa1-44de-a5f1-94b3dc68bd96",
   "metadata": {},
   "outputs": [
    {
     "name": "stdout",
     "output_type": "stream",
     "text": [
      "Minor\n"
     ]
    }
   ],
   "source": [
    "# Example 1: Major or Minor\n",
    "\n",
    "age = 17\n",
    "\n",
    "Status = 'Major' if age>=18 else 'Minor'\n",
    "\n",
    "print(Status)\n"
   ]
  },
  {
   "cell_type": "code",
   "execution_count": 6,
   "id": "24d7d8cd-4dac-4d0d-90b2-402b74dd21e5",
   "metadata": {},
   "outputs": [
    {
     "name": "stdout",
     "output_type": "stream",
     "text": [
      "Odd\n"
     ]
    }
   ],
   "source": [
    "# Example 2: Odd or Even\n",
    "\n",
    "a = 5\n",
    "\n",
    "Result = 'Even' if a % 2 == 0 else 'Odd'\n",
    "\n",
    "print(Result)\n"
   ]
  },
  {
   "cell_type": "code",
   "execution_count": 10,
   "id": "0b60d580-efef-4a46-b927-2b8b897b7edd",
   "metadata": {},
   "outputs": [
    {
     "name": "stdout",
     "output_type": "stream",
     "text": [
      "9\n"
     ]
    }
   ],
   "source": [
    "# Example 3: Finding the maximum of two numbers\n",
    "\n",
    "a = 6\n",
    "b = 9\n",
    "\n",
    "Max_Value = a if a > b else b\n",
    "\n",
    "print(Max_Value)\n"
   ]
  },
  {
   "cell_type": "code",
   "execution_count": 12,
   "id": "d24143f4-7ed4-41c5-89ea-4de45ea428e6",
   "metadata": {},
   "outputs": [
    {
     "name": "stdout",
     "output_type": "stream",
     "text": [
      "c is larger\n"
     ]
    }
   ],
   "source": [
    "# Example 4: Nested ternary operator\n",
    "\n",
    "a = 8\n",
    "b = 9\n",
    "c = 20\n",
    "\n",
    "Maximum = 'a is lairger' if(a > b and a > c) else('b is larger' if b > c else 'c is larger') \n",
    "\n",
    "print(Maximum)\n"
   ]
  },
  {
   "cell_type": "markdown",
   "id": "e590e12e-73fd-4d5d-a7c7-843fba088aa0",
   "metadata": {},
   "source": [
    "## EXCEPTION HANDLING"
   ]
  },
  {
   "cell_type": "markdown",
   "id": "8400de1e-ba12-44e7-91b5-72591351fe8d",
   "metadata": {},
   "source": [
    "Exceptions are errors that occur during the execution of a program.\n",
    "\n",
    "Instead of crashing the program, we can catch and handle these exceptions using Exception Handling.\n",
    "\n",
    "This makes your program more robust and user-friendly."
   ]
  },
  {
   "cell_type": "raw",
   "id": "26b240f8-0639-4a58-b4a2-90aba4ba52af",
   "metadata": {},
   "source": [
    "Quick Structure:\n",
    "\n",
    "  Block\t                         Purpose\n",
    " -------                        ---------\n",
    "\n",
    "1. try\t                 Code that might throw an error\n",
    "2. except\t             Code that runs if an error occurs\n",
    "3. else\t                 Code that runs if no error occurs\n",
    "4. finally\t             Code that always runs\n"
   ]
  },
  {
   "cell_type": "raw",
   "id": "c9d47fd7-b334-4f46-bb7a-e7134163dc45",
   "metadata": {},
   "source": [
    "Common Exceptions:\n",
    "\n",
    "\n",
    "      Exception\t              Meaning\n",
    "     -----------             ---------\n",
    "\n",
    "  ZeroDivisionError\t      Dividing by zero\n",
    "  ValueError\t          Wrong value type\n",
    "  TypeError\t              Wrong data type\n",
    "  KeyError\t              Key not found in dictionary\n",
    "  IndexError\t          Index out of range in list\n",
    "  FileNotFoundError\t      File does not exist\n",
    "  AttributeError\t      Attribute not found on object\n"
   ]
  },
  {
   "cell_type": "raw",
   "id": "63155b67-d440-4457-ae9e-f1f0627aff95",
   "metadata": {},
   "source": [
    " Syntax:\n",
    "\n",
    "         try:\n",
    "        # Code that might raise an exception\n",
    "        except ExceptionType:\n",
    "        # Code to handle the exception\n",
    "        "
   ]
  },
  {
   "cell_type": "code",
   "execution_count": 23,
   "id": "71a4ac86-270e-44c8-80b0-abe4c45c52d6",
   "metadata": {},
   "outputs": [
    {
     "name": "stdout",
     "output_type": "stream",
     "text": [
      "The error is:  division by zero\n"
     ]
    }
   ],
   "source": [
    "# ZeroDivisionError — Dividing by zero\n",
    "\n",
    "try:\n",
    "\n",
    "    a = 10/0\n",
    "\n",
    "except ZeroDivisionError as e:\n",
    "\n",
    "    print('The error is: ', e)\n"
   ]
  },
  {
   "cell_type": "code",
   "execution_count": 25,
   "id": "94ea9061-541b-480e-b770-8c041e99be62",
   "metadata": {},
   "outputs": [
    {
     "name": "stdout",
     "output_type": "stream",
     "text": [
      "The error is:  invalid literal for int() with base 10: 'Hariharan'\n"
     ]
    }
   ],
   "source": [
    "# ValueError — Wrong value type\n",
    "\n",
    "try:\n",
    "\n",
    "    Name = int('Hariharan')\n",
    "\n",
    "except ValueError as e:\n",
    "\n",
    "    print('The error is: ', e)\n",
    "    "
   ]
  },
  {
   "cell_type": "code",
   "execution_count": 27,
   "id": "b94804bf-bcef-476c-8fe5-51590b7520b7",
   "metadata": {},
   "outputs": [
    {
     "name": "stdout",
     "output_type": "stream",
     "text": [
      "The error is:  can only concatenate str (not \"int\") to str\n"
     ]
    }
   ],
   "source": [
    "# TypeError — Wrong data type\n",
    "\n",
    "try:\n",
    "\n",
    "    Result = '2' + 2\n",
    "\n",
    "except TypeError as e:\n",
    "\n",
    "    print('The error is: ', e)\n",
    "    "
   ]
  },
  {
   "cell_type": "code",
   "execution_count": 37,
   "id": "e5ea8456-3bf8-4a99-8ace-9813fd90abf6",
   "metadata": {},
   "outputs": [
    {
     "name": "stdout",
     "output_type": "stream",
     "text": [
      "The error is:  'age'\n"
     ]
    }
   ],
   "source": [
    "# KeyError — Key not found in dictionary\n",
    "\n",
    "try:\n",
    "\n",
    "    Info = {'Name' : 'Balu', 'D.O.B' : 1961}\n",
    "    print(Info['age'])\n",
    "\n",
    "except KeyError as e:\n",
    "\n",
    "    print('The error is: ', e)\n",
    "    "
   ]
  },
  {
   "cell_type": "code",
   "execution_count": 45,
   "id": "54c44a7e-33a2-46f3-97fd-2402547c4d7f",
   "metadata": {},
   "outputs": [
    {
     "name": "stdout",
     "output_type": "stream",
     "text": [
      "The error is:  list index out of range\n"
     ]
    }
   ],
   "source": [
    "# IndexError — Index out of range in a list\n",
    "\n",
    "try:\n",
    "\n",
    "    Ind = [1, 2, 5]\n",
    "    Ind[8]\n",
    "\n",
    "except IndexError as e:\n",
    "\n",
    "    print('The error is: ', e)\n",
    "    "
   ]
  },
  {
   "cell_type": "code",
   "execution_count": 47,
   "id": "b94dd484-1464-44f4-94cd-e35f8c484061",
   "metadata": {},
   "outputs": [
    {
     "name": "stdout",
     "output_type": "stream",
     "text": [
      "The error is:  [Errno 2] No such file or directory: 'non_existing_file.txt'\n"
     ]
    }
   ],
   "source": [
    "# FileNotFoundError — File does not exist\n",
    "\n",
    "try:\n",
    "\n",
    "    File = open('non_existing_file.txt')\n",
    "\n",
    "except FileNotFoundError as e:\n",
    "\n",
    "    print('The error is: ', e)\n",
    "    "
   ]
  },
  {
   "cell_type": "code",
   "execution_count": 51,
   "id": "86b8c983-3017-4762-a2be-5a7ab78c2ee7",
   "metadata": {},
   "outputs": [
    {
     "name": "stdout",
     "output_type": "stream",
     "text": [
      "The error is:  'int' object has no attribute 'append'\n"
     ]
    }
   ],
   "source": [
    "# AttributeError — Attribute not found on object\n",
    "\n",
    "try:\n",
    "\n",
    "    x = 10\n",
    "    x.append(5)\n",
    "\n",
    "except AttributeError as e:\n",
    "\n",
    "    print('The error is: ', e)\n",
    "    "
   ]
  },
  {
   "cell_type": "code",
   "execution_count": 57,
   "id": "3c396290-0c4f-4d46-b2cd-81c003527ff7",
   "metadata": {},
   "outputs": [
    {
     "name": "stdin",
     "output_type": "stream",
     "text": [
      "Enter a number:  0\n"
     ]
    },
    {
     "name": "stdout",
     "output_type": "stream",
     "text": [
      "Number cannot be zero!\n"
     ]
    }
   ],
   "source": [
    "# Multiple Except Blocks\n",
    "\n",
    "try:\n",
    "    \n",
    "    num = int(input(\"Enter a number: \"))\n",
    "    result = 10 / num\n",
    "    \n",
    "except ValueError:\n",
    "    print(\"Invalid input! Enter a number.\")\n",
    "    \n",
    "except ZeroDivisionError:\n",
    "    print(\"Number cannot be zero!\")\n",
    "    "
   ]
  },
  {
   "cell_type": "raw",
   "id": "087e8b01-7e9b-4a02-9682-180e80f9f359",
   "metadata": {},
   "source": [
    "INFO:\n",
    "\n",
    "1. else: runs only if no exception occurs.\n",
    "\n",
    "2. finally: always runs, whether an exception occurs or not.\n"
   ]
  },
  {
   "cell_type": "code",
   "execution_count": 59,
   "id": "c4f96dfa-9676-41d1-83bb-42f71660a78c",
   "metadata": {},
   "outputs": [
    {
     "name": "stdin",
     "output_type": "stream",
     "text": [
      "Enter a number:  5\n"
     ]
    },
    {
     "name": "stdout",
     "output_type": "stream",
     "text": [
      "Division successful: 2.0\n",
      "Program execution completed.\n"
     ]
    }
   ],
   "source": [
    "# Using else and finally\n",
    "\n",
    "try:\n",
    "\n",
    "    num = int(input('Enter a number: '))\n",
    "    result = 10 / num\n",
    "\n",
    "except ZeroDivisionError:\n",
    "\n",
    "    print('Cannot divide by zero.')\n",
    "\n",
    "else:\n",
    "\n",
    "    print('Division successful:', result)\n",
    "\n",
    "finally:\n",
    "\n",
    "    print('Program execution completed.')\n"
   ]
  },
  {
   "cell_type": "code",
   "execution_count": null,
   "id": "d083d073-7809-474b-a13a-c072e1c046dc",
   "metadata": {},
   "outputs": [],
   "source": []
  }
 ],
 "metadata": {
  "kernelspec": {
   "display_name": "Python [conda env:base] *",
   "language": "python",
   "name": "conda-base-py"
  },
  "language_info": {
   "codemirror_mode": {
    "name": "ipython",
    "version": 3
   },
   "file_extension": ".py",
   "mimetype": "text/x-python",
   "name": "python",
   "nbconvert_exporter": "python",
   "pygments_lexer": "ipython3",
   "version": "3.12.7"
  }
 },
 "nbformat": 4,
 "nbformat_minor": 5
}
