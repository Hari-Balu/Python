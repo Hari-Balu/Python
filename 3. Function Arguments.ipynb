{
 "cells": [
  {
   "cell_type": "markdown",
   "id": "ec7fbcfe-cc2d-4f2f-a095-fc86b5a84bf0",
   "metadata": {},
   "source": [
    "# Function Argument"
   ]
  },
  {
   "cell_type": "raw",
   "id": "65cb43d7-d1af-4c26-af8f-4933f87ed739",
   "metadata": {},
   "source": [
    "In Python, arguments are the values you pass into a function when you call it.\n",
    "\n",
    "Types of Function Arguments:\n",
    "\n",
    "         Type\t                               Description\n",
    "        ------                                -------------\n",
    "\n",
    "1. Positional Arguments\t              Passed based on their position/order\n",
    "2. Keyword Arguments\t              Passed using key=value style\n",
    "3. Default Arguments\t              Provide a default value for parameters\n",
    "4. *args (Variable Positional)\t      Accepts multiple positional arguments\n",
    "5. **kwargs (Variable Keyword)\t      Accepts multiple keyword arguments\n"
   ]
  },
  {
   "cell_type": "code",
   "execution_count": 6,
   "id": "e20e0a9d-c862-48ef-8bd2-8dab73d5f3bf",
   "metadata": {},
   "outputs": [
    {
     "name": "stdin",
     "output_type": "stream",
     "text": [
      "Enter your name:  Hariharan.B\n",
      "Enter your age:  28\n"
     ]
    }
   ],
   "source": [
    "# Getting input from user\n",
    "\n",
    "user_name = input(\"Enter your name: \")\n",
    "user_age = input(\"Enter your age: \")\n"
   ]
  },
  {
   "cell_type": "code",
   "execution_count": 28,
   "id": "a4ab93a6-e5ff-4138-81cd-a8a9c8ee8e81",
   "metadata": {},
   "outputs": [
    {
     "name": "stdin",
     "output_type": "stream",
     "text": [
      "Enter a number:  8\n"
     ]
    },
    {
     "name": "stdout",
     "output_type": "stream",
     "text": [
      "<class 'int'>\n",
      "<class 'str'>\n",
      "<class 'float'>\n",
      "<class 'int'>\n"
     ]
    }
   ],
   "source": [
    "# Typecast  \n",
    "\n",
    "# Example 1:\n",
    "\n",
    "num = int(input(\"Enter a number: \"))   # convert String to int\n",
    "\n",
    "print(type(num)) \n",
    "\n",
    "\n",
    "# Example 2\n",
    "\n",
    "a = '5.6'\n",
    "print(type(a))\n",
    "\n",
    "b = float(a)\n",
    "print(type(b))     # convert String to float\n",
    "\n",
    "c = int(b)\n",
    "print(type(c))     # convert float to int\n"
   ]
  },
  {
   "cell_type": "markdown",
   "id": "5eea7e42-5981-4ff8-ad92-eecdc7968931",
   "metadata": {},
   "source": [
    "### DEF Function"
   ]
  },
  {
   "cell_type": "raw",
   "id": "4d67cfc1-2358-4ea5-9045-b69f7968cf72",
   "metadata": {},
   "source": [
    "\n",
    "def is a keyword used to define a function.\n",
    "\n",
    "A function is a block of code that runs only when you call it.\n",
    "\n",
    "You can reuse it many times without writing the same code again!\n",
    "\n",
    "\n",
    "Syntax:   def function_name(parameters):\n",
    "           # code block\n",
    "          return something (optional)\n"
   ]
  },
  {
   "cell_type": "markdown",
   "id": "9d3072b5-4140-4b2c-a4ab-c71baf20eb10",
   "metadata": {},
   "source": [
    "### WITH ARGUMENT"
   ]
  },
  {
   "cell_type": "code",
   "execution_count": 96,
   "id": "7a04f40f-99b3-47a8-b415-16e5464a21a7",
   "metadata": {},
   "outputs": [
    {
     "name": "stdout",
     "output_type": "stream",
     "text": [
      "10\n"
     ]
    }
   ],
   "source": [
    "# Example 1: Add Two Numbers \n",
    "\n",
    "def add(a,b):\n",
    "    \n",
    "    print(a+b)\n",
    "    \n",
    "add(5,5)\n"
   ]
  },
  {
   "cell_type": "code",
   "execution_count": 22,
   "id": "42322ec1-635f-448c-8d01-4163d5cb70e3",
   "metadata": {},
   "outputs": [
    {
     "name": "stdin",
     "output_type": "stream",
     "text": [
      "enter a number: 5\n",
      "enter a number: 8\n"
     ]
    },
    {
     "name": "stdout",
     "output_type": "stream",
     "text": [
      "13\n"
     ]
    }
   ],
   "source": [
    "# Example 2: Add Two Numbers by passing input from the user\n",
    "\n",
    "def add(c,d):\n",
    "    \n",
    "        print(c+d)\n",
    "\n",
    "c = int(input('enter a number:'))\n",
    "d = int(input('enter a number:'))\n",
    "\n",
    "add(c,d)\n"
   ]
  },
  {
   "cell_type": "code",
   "execution_count": 13,
   "id": "d8feee4b-39c9-41f3-ae34-77f495b492b2",
   "metadata": {},
   "outputs": [
    {
     "name": "stdout",
     "output_type": "stream",
     "text": [
      "8\n"
     ]
    }
   ],
   "source": [
    "# Example 1: Add Two Numbers by return\n",
    "\n",
    "def add(a, b):\n",
    "    \n",
    "    return a + b\n",
    "\n",
    "result = add(5, 3)\n",
    "\n",
    "print(result)\n"
   ]
  },
  {
   "cell_type": "markdown",
   "id": "a8709a69-bd60-44ab-bd23-335b30844e0f",
   "metadata": {},
   "source": [
    "### WITHOUT ARGUMENT\n",
    "\n"
   ]
  },
  {
   "cell_type": "code",
   "execution_count": 17,
   "id": "436316f9-7169-4eed-8ed7-5a1ecf47a345",
   "metadata": {},
   "outputs": [
    {
     "name": "stdin",
     "output_type": "stream",
     "text": [
      "Enter a number:  8\n",
      "Enter another number:  8\n"
     ]
    },
    {
     "name": "stdout",
     "output_type": "stream",
     "text": [
      "Sum is: 16\n"
     ]
    }
   ],
   "source": [
    "# Example 1: Add Two Numbers by passing input from the user\n",
    "\n",
    "def add_numbers():\n",
    "    \n",
    "    e = int(input('Enter a number: '))\n",
    "    f = int(input('Enter another number: '))\n",
    "    \n",
    "    print(\"Sum is:\", e + f)\n",
    "\n",
    "add_numbers()"
   ]
  },
  {
   "cell_type": "code",
   "execution_count": null,
   "id": "c2fb7a4a-ae1d-41cd-8a24-ba4cdd70a35c",
   "metadata": {},
   "outputs": [],
   "source": [
    "# Example 2: \n",
    "\n",
    "def greet():\n",
    "    \n",
    "    print(\"Hello, welcome to Python!\")\n",
    "\n",
    "greet()"
   ]
  },
  {
   "cell_type": "markdown",
   "id": "d7a6d965-ae26-4526-a935-8240fb87d8a1",
   "metadata": {},
   "source": [
    "### DEFAULT"
   ]
  },
  {
   "cell_type": "raw",
   "id": "cc6f4883-4795-43ec-afb0-5e98172e04f0",
   "metadata": {},
   "source": [
    "\n",
    "A default argument means giving a value to a parameter while defining the function.\n",
    "\n",
    "If you don't pass a value when calling the function, the default value will be used.\n",
    "\n",
    "If you do pass a value, it will override the default.\n",
    "\n",
    "Syntax: def function_name(parameter=default_value):\n",
    "        # function body\n"
   ]
  },
  {
   "cell_type": "code",
   "execution_count": 33,
   "id": "e023beaf-3198-4ce1-b5e4-2a5f34d5ac84",
   "metadata": {},
   "outputs": [
    {
     "name": "stdout",
     "output_type": "stream",
     "text": [
      "Hi Hari How are you\n"
     ]
    }
   ],
   "source": [
    "# Example 1:\n",
    "\n",
    "def msg(name = 'Hari'):\n",
    "\n",
    "        print(f'Hi {name} How are you')\n",
    "\n",
    "msg()"
   ]
  },
  {
   "cell_type": "code",
   "execution_count": 39,
   "id": "d8ab0928-b4a7-499c-8596-fd5661ef5cac",
   "metadata": {},
   "outputs": [
    {
     "name": "stdout",
     "output_type": "stream",
     "text": [
      "125\n"
     ]
    }
   ],
   "source": [
    "# Example 2:\n",
    "\n",
    "def power(base, exponent):\n",
    "    \n",
    "    return base ** exponent\n",
    "\n",
    "print(power(5, 3))  \n",
    "  "
   ]
  },
  {
   "cell_type": "markdown",
   "id": "e4f88630-437f-44d9-a733-8e239d548036",
   "metadata": {},
   "source": [
    "### ARGS"
   ]
  },
  {
   "cell_type": "raw",
   "id": "78ed2dd8-2b3d-4f92-96e7-b6a8ffebb082",
   "metadata": {},
   "source": [
    "\n",
    "*args lets your function accept any number of positional arguments (not fixed).\n",
    "\n",
    "It collects them into a tuple inside the function.\n",
    "\n",
    "Think of it like a basket catching many inputs!\n",
    "\n",
    "Syntax: def function_name(*args):\n",
    "        # code using args\n",
    "        "
   ]
  },
  {
   "cell_type": "code",
   "execution_count": 110,
   "id": "218bd907-1716-43c2-8774-d55716b8f77d",
   "metadata": {},
   "outputs": [
    {
     "name": "stdout",
     "output_type": "stream",
     "text": [
      "(1, 2, 3, 4, 5)\n"
     ]
    }
   ],
   "source": [
    "# Example 1:\n",
    "\n",
    "def a(*args):\n",
    "    \n",
    "    print(args)\n",
    "\n",
    "a(1,2,3,4,5)\n"
   ]
  },
  {
   "cell_type": "code",
   "execution_count": 13,
   "id": "267d5c42-a97b-4673-b804-0c1f1ae5bc1b",
   "metadata": {},
   "outputs": [
    {
     "name": "stdout",
     "output_type": "stream",
     "text": [
      "[1, 2, 3, 4] 5\n",
      "[1, 2, 3, 4, 5, 6] 7 8\n"
     ]
    }
   ],
   "source": [
    "# INFO:\n",
    "\n",
    "*a, b = (1,2,3,4,5) \n",
    "\n",
    "*c, d, e = (1,2,3,4,5,6,7,8) \n",
    "\n",
    "\n",
    "print(a,b)\n",
    "print(c,d,e)\n"
   ]
  },
  {
   "cell_type": "code",
   "execution_count": 3,
   "id": "a4426c21-5c9b-4e33-a36e-ebdb7f58a109",
   "metadata": {},
   "outputs": [
    {
     "name": "stdout",
     "output_type": "stream",
     "text": [
      "5\n",
      "15\n"
     ]
    },
    {
     "data": {
      "text/plain": [
       "1"
      ]
     },
     "execution_count": 3,
     "metadata": {},
     "output_type": "execute_result"
    }
   ],
   "source": [
    "# Example 2:\n",
    "\n",
    "def x(*a):    \n",
    "    \n",
    "    print( max (a) )\n",
    "    print( sum (a) )\n",
    "    return min (a)\n",
    "    \n",
    "\n",
    "x(1,2,3,4,5)\n"
   ]
  },
  {
   "cell_type": "code",
   "execution_count": 7,
   "id": "8fd38816-343d-4063-b359-a039c04a80f3",
   "metadata": {},
   "outputs": [
    {
     "name": "stdout",
     "output_type": "stream",
     "text": [
      "The sum is:  15\n"
     ]
    }
   ],
   "source": [
    "# Example 3: Summing Numbers\n",
    "\n",
    "def addition(*num):\n",
    "\n",
    "       total = sum(num)\n",
    "       print('The sum is: ', total)\n",
    "\n",
    "\n",
    "addition(1,2,3,4,5) \n"
   ]
  },
  {
   "cell_type": "markdown",
   "id": "8065387c-cff6-4334-82df-6926ecdd2b6c",
   "metadata": {},
   "source": [
    "### KWARGS"
   ]
  },
  {
   "cell_type": "raw",
   "id": "5275c660-0f6b-497b-ade5-2ae636bb58f0",
   "metadata": {},
   "source": [
    "\n",
    "**kwargs allows you to pass multiple keyword arguments (key=value pairs) into a function.\n",
    "\n",
    "Inside the function, **kwargs becomes a dictionary.\n",
    "\n",
    "Think of **kwargs as a bag 📦 carrying keys and values.\n",
    "\n",
    "\n",
    "Syntax: def function_name(**kwargs):\n",
    "         # code using kwargs\n"
   ]
  },
  {
   "cell_type": "code",
   "execution_count": 30,
   "id": "3ef121b6-70f9-49a4-ae92-5949e65ffd51",
   "metadata": {},
   "outputs": [
    {
     "name": "stdout",
     "output_type": "stream",
     "text": [
      "{'name': 'Alice', 'age': 25, 'city': 'Paris'}\n",
      "25\n"
     ]
    }
   ],
   "source": [
    "# Example 1:\n",
    "\n",
    "def print_info(**kwargs):\n",
    "    \n",
    "    print(kwargs)\n",
    "    print(kwargs['age'])\n",
    "\n",
    "print_info(name=\"Alice\", age=25, city=\"Paris\")\n"
   ]
  },
  {
   "cell_type": "code",
   "execution_count": 20,
   "id": "bfdde0dd-9c9f-44a4-9b3e-c517296ba926",
   "metadata": {},
   "outputs": [
    {
     "name": "stdout",
     "output_type": "stream",
     "text": [
      "Args: (1, 2, 3)\n",
      "Kwargs: {'name': 'Alice', 'age': 25}\n"
     ]
    }
   ],
   "source": [
    "# Example 2:\n",
    "\n",
    "def mix_example(*a, **b):\n",
    "    \n",
    "    print(\"Args:\", a)\n",
    "    print(\"Kwargs:\", b)\n",
    "\n",
    "mix_example(1, 2, 3, name=\"Alice\", age=25)\n"
   ]
  },
  {
   "cell_type": "code",
   "execution_count": 24,
   "id": "79f1d522-b848-46f9-b8aa-843ceb7bbd1f",
   "metadata": {},
   "outputs": [
    {
     "name": "stdout",
     "output_type": "stream",
     "text": [
      "[2, 3, 6]\n"
     ]
    }
   ],
   "source": [
    "# Example 3:\n",
    "\n",
    "def abc(**n):\n",
    "\n",
    "    print(n['b'])\n",
    "\n",
    "abc(a = 5, b = [2,3,6])\n"
   ]
  },
  {
   "cell_type": "code",
   "execution_count": null,
   "id": "68b18be8-1c5f-4ade-9ee1-8751e779d9ea",
   "metadata": {},
   "outputs": [],
   "source": []
  }
 ],
 "metadata": {
  "kernelspec": {
   "display_name": "Python [conda env:base] *",
   "language": "python",
   "name": "conda-base-py"
  },
  "language_info": {
   "codemirror_mode": {
    "name": "ipython",
    "version": 3
   },
   "file_extension": ".py",
   "mimetype": "text/x-python",
   "name": "python",
   "nbconvert_exporter": "python",
   "pygments_lexer": "ipython3",
   "version": "3.12.7"
  }
 },
 "nbformat": 4,
 "nbformat_minor": 5
}
