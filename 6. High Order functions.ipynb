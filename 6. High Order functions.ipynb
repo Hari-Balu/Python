{
 "cells": [
  {
   "cell_type": "markdown",
   "id": "1b760d38-47a7-4dd3-800c-839a59ce33fc",
   "metadata": {},
   "source": [
    "# HIGH ORDER FUNCTION"
   ]
  },
  {
   "cell_type": "raw",
   "id": "30f9ff55-2227-47ad-95bd-89ceccb22d5f",
   "metadata": {},
   "source": [
    "High-Order Functions in Python:\n",
    "\n",
    "✅ map()\n",
    "✅ filter()\n",
    "✅ reduce()\n",
    "✅ lambda\n"
   ]
  },
  {
   "cell_type": "raw",
   "id": "d9cf4f20-3fbd-40d9-aed3-0bff96c6cbc9",
   "metadata": {},
   "source": [
    "\n",
    "🎯 Quick Summary Table\n",
    "\n",
    "   Function             Purpose\t                              example\n",
    "  ----------           ---------                             ---------\n",
    "\n",
    "  map()\t           Transform each item\t                  map(func, list)\n",
    "  filter()\t       Filter items based on condition\t      filter(func, list)\n",
    "  reduce()\t       Reduce list to a single value\t      reduce(func, list)\n",
    "  lambda\t       Create a short, anonymous function\t  lambda args: expression\n"
   ]
  },
  {
   "cell_type": "markdown",
   "id": "39d055ea-aa9c-49ed-aca4-5c53f9ea6e6a",
   "metadata": {},
   "source": [
    "## 1. Lambda"
   ]
  },
  {
   "cell_type": "markdown",
   "id": "35f5be55-3e61-4b22-b529-d4cf7965c750",
   "metadata": {},
   "source": [
    "It is a small anonymous function (without a name).\n",
    "\n",
    "It can have any number of arguments, but only one expression.\n",
    "\n",
    "Shortcut for simple functions."
   ]
  },
  {
   "cell_type": "raw",
   "id": "8d457a04-39f0-463e-b915-63c9f437024e",
   "metadata": {},
   "source": [
    "Syntax:\n",
    "\n",
    "        lambda arguments : expression\n"
   ]
  },
  {
   "cell_type": "code",
   "execution_count": 7,
   "id": "a2cb9602-0d3a-4db1-9a35-b6759a37e732",
   "metadata": {},
   "outputs": [
    {
     "name": "stdout",
     "output_type": "stream",
     "text": [
      "11\n"
     ]
    }
   ],
   "source": [
    "# Example 1: Basic lambda\n",
    "\n",
    "add = lambda a, b : print(a + b)\n",
    "\n",
    "add(5, 6)\n"
   ]
  },
  {
   "cell_type": "code",
   "execution_count": 39,
   "id": "de3a0417-92c1-43f2-b6f6-8e563f9d08b1",
   "metadata": {},
   "outputs": [
    {
     "data": {
      "text/plain": [
       "[11, 33, 55]"
      ]
     },
     "execution_count": 39,
     "metadata": {},
     "output_type": "execute_result"
    }
   ],
   "source": [
    "# Example 2: Using 'For'\n",
    "\n",
    "a = [11, 22, 33, 44, 55, 66]\n",
    "\n",
    "Check = lambda b : [i for i in b if i % 2 != 0]\n",
    "\n",
    "Check(a)\n"
   ]
  },
  {
   "cell_type": "code",
   "execution_count": 59,
   "id": "b0a043d0-f46d-4e0d-97c6-7ff57b0d49dd",
   "metadata": {},
   "outputs": [
    {
     "data": {
      "text/plain": [
       "['HARI']"
      ]
     },
     "execution_count": 59,
     "metadata": {},
     "output_type": "execute_result"
    }
   ],
   "source": [
    "# Example 3: Check if it is upper\n",
    "\n",
    "a = ['satish', 'HARI', 'bala']\n",
    "\n",
    "Case = lambda b : [i for i in b if i.isupper()]\n",
    "\n",
    "Case(a)\n"
   ]
  },
  {
   "cell_type": "code",
   "execution_count": 67,
   "id": "2a100c95-d09b-47f6-bfe9-a7aebb957478",
   "metadata": {},
   "outputs": [
    {
     "data": {
      "text/plain": [
       "['satish', 'bala']"
      ]
     },
     "execution_count": 67,
     "metadata": {},
     "output_type": "execute_result"
    }
   ],
   "source": [
    "# Example 4: Check if it is lower\n",
    "\n",
    "a = ['satish', 'HARI', 'bala']\n",
    "\n",
    "Case = lambda b : [i for i in b if i.islower()]\n",
    "\n",
    "Case(a)\n"
   ]
  },
  {
   "cell_type": "markdown",
   "id": "85fbd8b6-0b52-46d1-b69d-89eb2d6468f9",
   "metadata": {},
   "source": [
    "## 2. Map"
   ]
  },
  {
   "cell_type": "markdown",
   "id": "d04aa64d-303d-4e5e-bace-1895fdcfdd10",
   "metadata": {},
   "source": [
    "1. map() applies a function to every item of an iterable (like a list, tuple, etc.)\n",
    "\n",
    "2. It returns a map object (which we usually convert into a list)."
   ]
  },
  {
   "cell_type": "raw",
   "id": "3f794bdc-a950-4038-8436-94d2136f7adf",
   "metadata": {},
   "source": [
    "Syntax:\n",
    "\n",
    "        map(function, iterable)\n"
   ]
  },
  {
   "cell_type": "code",
   "execution_count": 87,
   "id": "3a1ad451-fa4e-4c69-8441-271678dcdc40",
   "metadata": {},
   "outputs": [
    {
     "name": "stdout",
     "output_type": "stream",
     "text": [
      "[1, 4, 9, 16, 25]\n"
     ]
    }
   ],
   "source": [
    "# Example 1: Basic Map\n",
    "\n",
    "def square(a):\n",
    "\n",
    "    return a*a\n",
    "\n",
    "number = [1, 2, 3, 4, 5]\n",
    "\n",
    "result = map(square, number)\n",
    "\n",
    "print(list(result))        \n",
    "        "
   ]
  },
  {
   "cell_type": "code",
   "execution_count": 93,
   "id": "509bd91a-1987-40fb-bd60-09ef7a97a579",
   "metadata": {},
   "outputs": [
    {
     "name": "stdout",
     "output_type": "stream",
     "text": [
      "[1, 4, 9, 16, 25]\n"
     ]
    }
   ],
   "source": [
    "# Example 2: Using lambda inside map()\n",
    "\n",
    "numbers = [1, 2, 3, 4, 5]\n",
    "\n",
    "result = map(lambda x : x*x, numbers)\n",
    "\n",
    "print(list(result))\n"
   ]
  },
  {
   "cell_type": "code",
   "execution_count": 99,
   "id": "a8a32c7f-dfe5-4f4f-b58a-eda348d8d28f",
   "metadata": {},
   "outputs": [
    {
     "name": "stdout",
     "output_type": "stream",
     "text": [
      "['SATISH', 'HARI', 'BALA']\n"
     ]
    }
   ],
   "source": [
    "# Example 3: Convert strings to uppercase\n",
    "\n",
    "Name = ['satish', 'hari', 'bala']\n",
    "\n",
    "Case = map(lambda b : b.upper(), Name)\n",
    "\n",
    "print(list(Case))\n"
   ]
  },
  {
   "cell_type": "code",
   "execution_count": 103,
   "id": "b72a2f73-e2e2-4a18-83f1-95b6db7f7d6d",
   "metadata": {},
   "outputs": [
    {
     "name": "stdout",
     "output_type": "stream",
     "text": [
      "[2, 4, 6, 8, 10]\n"
     ]
    }
   ],
   "source": [
    "# Example 4: Add corresponding elements from two lists\n",
    "\n",
    "a = [1, 2, 3, 4, 5]\n",
    "b = [1, 2, 3, 4, 5]\n",
    "\n",
    "Result = map(lambda x, y : x + y, a, b )\n",
    "\n",
    "print(list(Result))\n"
   ]
  },
  {
   "cell_type": "raw",
   "id": "a9199c1f-207e-4f7e-9e0e-b4fb613bd27c",
   "metadata": {},
   "source": [
    "\n",
    "⚡ Quick Tip:\n",
    "\n",
    "1. If you just want to modify all elements of a list → use map().\n",
    "\n",
    "2. If you want to filter some elements → use filter().\n"
   ]
  },
  {
   "cell_type": "markdown",
   "id": "95b32700-72c5-4db8-9c09-33ccc4c3dce5",
   "metadata": {},
   "source": [
    "## 3. Filter"
   ]
  },
  {
   "cell_type": "markdown",
   "id": "7f8747e1-7411-4d48-b51a-f2c860b7c445",
   "metadata": {},
   "source": [
    "1. filter() is used to select items from an iterable based on a condition.\n",
    "\n",
    "2. It filters out the elements where the function returns False.\n",
    "\n",
    "3. It returns a filter object (convert it to a list, tuple, etc. to see results)."
   ]
  },
  {
   "cell_type": "raw",
   "id": "fea7288b-6009-4518-b6a2-65ff061d362c",
   "metadata": {},
   "source": [
    "Syntax:\n",
    "\n",
    "        filter(function, iterable)\n"
   ]
  },
  {
   "cell_type": "code",
   "execution_count": 126,
   "id": "3857cf38-cc59-4a6c-8b10-239147d78b21",
   "metadata": {},
   "outputs": [
    {
     "name": "stdout",
     "output_type": "stream",
     "text": [
      "[2, 4, 6]\n"
     ]
    }
   ],
   "source": [
    "# Example 1: Basic Filter\n",
    "\n",
    "\n",
    "def is_even(x):\n",
    "\n",
    "    return x % 2 == 0\n",
    "\n",
    "numbers = [1, 2, 3, 4, 5, 6]\n",
    "\n",
    "result = filter(is_even, numbers) \n",
    "\n",
    "print(list(result))\n"
   ]
  },
  {
   "cell_type": "code",
   "execution_count": 130,
   "id": "70e753b2-6d66-4fc3-93fa-51529ca905f2",
   "metadata": {},
   "outputs": [
    {
     "name": "stdout",
     "output_type": "stream",
     "text": [
      "[2, 4, 6]\n"
     ]
    }
   ],
   "source": [
    "# Example 2: Using lambda inside Filter()\n",
    "\n",
    "numbers = [1, 2, 3, 4, 5, 6]\n",
    "\n",
    "Result = filter(lambda x : x % 2 == 0, numbers)\n",
    "\n",
    "print(list(Result))\n"
   ]
  },
  {
   "cell_type": "code",
   "execution_count": 136,
   "id": "c5701868-b3ef-4b72-a8bd-01737ee76b43",
   "metadata": {},
   "outputs": [
    {
     "name": "stdout",
     "output_type": "stream",
     "text": [
      "['Alice', 'Annie']\n"
     ]
    }
   ],
   "source": [
    "# Example 3: Filter names starting with 'A'\n",
    "\n",
    "names = ['Alice', 'Bob', 'Annie', 'Steve']\n",
    "\n",
    "Start = filter(lambda a : a.startswith('A'), names)\n",
    "\n",
    "print(list(Start))\n"
   ]
  },
  {
   "cell_type": "code",
   "execution_count": 140,
   "id": "92b6a0de-c4cb-4856-856b-b1aa4112a034",
   "metadata": {},
   "outputs": [
    {
     "name": "stdout",
     "output_type": "stream",
     "text": [
      "[15, 20, 25]\n"
     ]
    }
   ],
   "source": [
    "# Example 4 : Filter numbers greater than 10\n",
    "\n",
    "numbers = [5, 15, 3, 20, 8, 25]\n",
    "\n",
    "Greater = filter(lambda num : num > 10, numbers)\n",
    "\n",
    "print(list(Greater))"
   ]
  },
  {
   "cell_type": "raw",
   "id": "5e1b44ec-f827-412f-9665-cc641cee56aa",
   "metadata": {},
   "source": [
    "⚡ Quick Tip:\n",
    "\n",
    "1. Use map() to modify each element.\n",
    "\n",
    "2. Use filter() to select certain elements."
   ]
  },
  {
   "cell_type": "markdown",
   "id": "2ec1d722-dbcc-4d34-9f8f-f08e779050f6",
   "metadata": {},
   "source": [
    "## 4. Reduce"
   ]
  },
  {
   "cell_type": "markdown",
   "id": "30c2f468-8868-40a8-b7bd-4539a4967409",
   "metadata": {},
   "source": [
    "1. reduce() applies a function cumulatively to the items of an iterable.\n",
    "\n",
    "2. It reduces the iterable into a single final result.\n",
    "\n",
    "3. You must import it from functools module."
   ]
  },
  {
   "cell_type": "raw",
   "id": "db888b10-06f7-452d-9225-2776df33ac86",
   "metadata": {},
   "source": [
    "Syntax:\n",
    "\n",
    "        from functools import reduce\n",
    "        reduce(function, iterable)\n"
   ]
  },
  {
   "cell_type": "code",
   "execution_count": 145,
   "id": "8a06dc86-0da4-481a-8a59-aefda4305b0c",
   "metadata": {},
   "outputs": [
    {
     "name": "stdout",
     "output_type": "stream",
     "text": [
      "15\n"
     ]
    }
   ],
   "source": [
    "# Example 1: Basic Reduce\n",
    "\n",
    "from functools import reduce\n",
    "\n",
    "def add(x, y):\n",
    "    return x + y\n",
    "\n",
    "numbers = [1, 2, 3, 4, 5]\n",
    "\n",
    "result = reduce(add, numbers)\n",
    "\n",
    "print(result)\n"
   ]
  },
  {
   "cell_type": "code",
   "execution_count": 155,
   "id": "cdbed55f-181a-49d9-8936-5d4abe47ad5d",
   "metadata": {},
   "outputs": [
    {
     "name": "stdout",
     "output_type": "stream",
     "text": [
      "15\n"
     ]
    }
   ],
   "source": [
    "# Example 2: Using lambda inside reduce()\n",
    "\n",
    "from functools import reduce\n",
    "\n",
    "numbers = [1, 2, 3, 4, 5]\n",
    "\n",
    "result = reduce(lambda a, b : a + b, numbers)\n",
    "\n",
    "print(result)\n"
   ]
  },
  {
   "cell_type": "code",
   "execution_count": 157,
   "id": "7df6caac-627e-4316-9662-daefe08faa6b",
   "metadata": {},
   "outputs": [
    {
     "name": "stdout",
     "output_type": "stream",
     "text": [
      "120\n"
     ]
    }
   ],
   "source": [
    "# Example 3: Multiply all numbers\n",
    "\n",
    "from functools import reduce\n",
    "\n",
    "numbers = [1, 2, 3, 4, 5]\n",
    "\n",
    "Multiply = reduce(lambda a, b : a * b, numbers)\n",
    "\n",
    "print(Multiply)\n"
   ]
  },
  {
   "cell_type": "code",
   "execution_count": 169,
   "id": "3857db26-ea92-46c9-a8f9-615f3d828eda",
   "metadata": {},
   "outputs": [
    {
     "name": "stdout",
     "output_type": "stream",
     "text": [
      "6\n"
     ]
    }
   ],
   "source": [
    "# Example 4: Find Maximum Value\n",
    "\n",
    "from functools import reduce\n",
    "\n",
    "numbers = [1, 2, 3, 4, 5, 6]\n",
    "\n",
    "Maximum = reduce(lambda a, b : a  if a > b else b, numbers)\n",
    "\n",
    "print(Maximum)\n",
    "     "
   ]
  },
  {
   "cell_type": "raw",
   "id": "9c9edd7f-c01d-4860-a579-6023ed6195db",
   "metadata": {},
   "source": [
    "\n",
    "⚡ Quick Tip:\n",
    "\n",
    "1. reduce() is mainly used for aggregation like sum, product, min, max, etc.\n",
    "\n",
    "2. It's very powerful but sometimes can be replaced with simpler Python functions like sum(), max().\n"
   ]
  },
  {
   "cell_type": "markdown",
   "id": "ad85dc60-7766-42dd-92d8-d01dcca53e33",
   "metadata": {},
   "source": [
    "## Namespace "
   ]
  },
  {
   "cell_type": "markdown",
   "id": "9f5f750e-be51-447f-9e18-bf9174431ca8",
   "metadata": {},
   "source": [
    "A namespace is like a box where names (variables, functions, objects) are stored.\n",
    "\n",
    "It maps names (identifiers) to objects.\n",
    "\n",
    "Think of it as a dictionary: { 'name': object }\n"
   ]
  },
  {
   "cell_type": "raw",
   "id": "34fc2071-e558-4d3d-a36f-063bd8b75b16",
   "metadata": {},
   "source": [
    "\n",
    "🚀 Types of Namespaces:\n",
    "\n",
    "\n",
    " Namespace Type\t                   Example\n",
    "-----------------                 ---------\n",
    "\n",
    " Built-in\t          Functions like len(), print()\n",
    " Global\t              Variables are declared at the top level of a file\n",
    " Local\t              Variables inside a function\n",
    " Enclosing\t          Variables in outer functions (when using nested functions)\n"
   ]
  },
  {
   "cell_type": "code",
   "execution_count": 189,
   "id": "9cfe6b86-9d9c-4883-9f75-0db22ad601b1",
   "metadata": {},
   "outputs": [
    {
     "name": "stdout",
     "output_type": "stream",
     "text": [
      "5\n",
      "10\n"
     ]
    }
   ],
   "source": [
    "# Example of Namespace:\n",
    "\n",
    "x = 10  # Global namespace\n",
    "\n",
    "def my_func():\n",
    "    \n",
    "    y = 5  # Local namespace\n",
    "    print(y)\n",
    "\n",
    "my_func()\n",
    "print(x)\n"
   ]
  },
  {
   "cell_type": "markdown",
   "id": "fe544beb-f869-4ea3-9388-f70917052b5e",
   "metadata": {},
   "source": [
    "## Scope"
   ]
  },
  {
   "cell_type": "markdown",
   "id": "1f1e7074-0238-4cac-ae25-225878ffa28f",
   "metadata": {},
   "source": [
    "Scope decides where a variable is accessible.\n",
    "\n",
    "Different types of scopes control the lifetime and visibility of variables."
   ]
  },
  {
   "cell_type": "raw",
   "id": "9aa67309-8f57-4f57-bd4f-3aea3c1630ca",
   "metadata": {},
   "source": [
    "\n",
    "🚀 Types of Scopes:\n",
    "\n",
    "\n",
    "   Scope\t          Where Variable is Available\n",
    "  -------            -----------------------------\n",
    "\n",
    " Local Scope\t      Inside a Function\n",
    " Enclosing Scope\t  In enclosing (outer) functions\n",
    " Global Scope\t      Throughout the module/file\n",
    " Built-in Scope\t      Everywhere (Python's reserved names)\n"
   ]
  },
  {
   "cell_type": "code",
   "execution_count": 187,
   "id": "6a0bd0cd-efe2-4e09-b259-3190d6bd971d",
   "metadata": {},
   "outputs": [
    {
     "name": "stdout",
     "output_type": "stream",
     "text": [
      "100\n",
      "200\n",
      "300\n"
     ]
    }
   ],
   "source": [
    "# Example of Scope:\n",
    "\n",
    "a = 100  # Global variable\n",
    "\n",
    "def outer():\n",
    "    b = 200  # Enclosing variable\n",
    "    \n",
    "    def inner():\n",
    "        c = 300  # Local variable\n",
    "        print(a)  # Global\n",
    "        print(b)  # Enclosing\n",
    "        print(c)  # Local\n",
    "    \n",
    "    inner()\n",
    "\n",
    "outer()"
   ]
  },
  {
   "cell_type": "raw",
   "id": "dfa98c4e-0700-4791-b95c-3eb9f21f5f24",
   "metadata": {},
   "source": [
    "\n",
    "🎯 The LEGB Rule (Scope Resolution Order)\n",
    "\n",
    " Python checks variables in this order:\n",
    "\n",
    "\n",
    "1. Local → function variables\n",
    "\n",
    "2. Enclosing → variables in outer functions\n",
    "\n",
    "3. Global → top-level variables\n",
    "\n",
    "4. Built-in → reserved keywords (like len, sum, etc.)\n"
   ]
  },
  {
   "cell_type": "code",
   "execution_count": 193,
   "id": "d247acf6-e592-4bcd-80fb-2357b3727405",
   "metadata": {},
   "outputs": [
    {
     "name": "stdout",
     "output_type": "stream",
     "text": [
      "local\n"
     ]
    }
   ],
   "source": [
    "# Example of LEGB Rule:\n",
    "\n",
    "x = \"global\"\n",
    "\n",
    "def outer():\n",
    "    x = \"enclosing\"\n",
    "    def inner():\n",
    "        x = \"local\"\n",
    "        print(x)\n",
    "    inner()\n",
    "\n",
    "outer()\n"
   ]
  },
  {
   "cell_type": "raw",
   "id": "540f7c14-5bcf-4194-8478-eb3db298a3f5",
   "metadata": {},
   "source": [
    "\n",
    "🔥 Bonus Tip: global and nonlocal keywords\n",
    "\n",
    "global: To modify a global variable inside a function.\n",
    "\n",
    "nonlocal: To modify a variable from the enclosing (outer) function.\n"
   ]
  },
  {
   "cell_type": "code",
   "execution_count": 201,
   "id": "08769df3-626d-47d0-a860-f10e2c62f8d0",
   "metadata": {},
   "outputs": [
    {
     "name": "stdout",
     "output_type": "stream",
     "text": [
      "10\n"
     ]
    }
   ],
   "source": [
    "# Example: Modify a global variable inside a function.\n",
    "\n",
    "x = 5\n",
    "\n",
    "def change_global():\n",
    "    global x\n",
    "    x = 10\n",
    "\n",
    "change_global()\n",
    "\n",
    "print(x)  \n"
   ]
  },
  {
   "cell_type": "code",
   "execution_count": 203,
   "id": "410a5f22-0820-4666-951a-db4643218819",
   "metadata": {},
   "outputs": [
    {
     "name": "stdout",
     "output_type": "stream",
     "text": [
      "inner\n"
     ]
    }
   ],
   "source": [
    "# Example: Modify a variable from the enclosing (outer) function.\n",
    "\n",
    "def outer():\n",
    "    x = \"outer\"\n",
    "    def inner():\n",
    "        nonlocal x\n",
    "        x = \"inner\"\n",
    "    inner()\n",
    "    print(x)\n",
    "\n",
    "outer()\n"
   ]
  },
  {
   "cell_type": "raw",
   "id": "7780f008-8cd0-468d-bebe-7e1f5ad1a831",
   "metadata": {},
   "source": [
    "\n",
    "📢 Summary:\n",
    "\n",
    "\n",
    "  Concept\t            Meaning\n",
    " ---------             --------- \n",
    "\n",
    " Namespace\t        Where the name is stored\n",
    " Scope\t            Where the name is visible\n",
    "\n",
    " "
   ]
  },
  {
   "cell_type": "markdown",
   "id": "79a5ad46-2abe-4c5c-94f6-32d34652802b",
   "metadata": {},
   "source": [
    "## Modules"
   ]
  },
  {
   "cell_type": "markdown",
   "id": "d7ce4b57-e5b9-4a9d-97be-985ab56c7dfa",
   "metadata": {},
   "source": [
    "A module is simply a Python file (.py) that contains Python code (functions, classes, variables).\n",
    "\n",
    "It allows you to organize your code into multiple files for better modularity and reuse.\n",
    "\n",
    "✅ In short:\n",
    "\n",
    "Module = Python file you can import and use."
   ]
  },
  {
   "cell_type": "code",
   "execution_count": null,
   "id": "fa5a722f-4c88-489b-a66a-b7875c769bc3",
   "metadata": {},
   "outputs": [],
   "source": [
    "# Example of a Module\n",
    "\n",
    "''' Suppose you have a file math_functions.py: '''\n",
    "\n",
    "math_functions.py\n",
    "\n",
    "def add(a, b):\n",
    "    return a + b\n",
    "\n",
    "def subtract(a, b):\n",
    "    return a - b\n",
    "\n",
    "\n",
    "''' Now you can import and use it in another file: '''\n",
    "\n",
    "import math_functions\n",
    "\n",
    "print(math_functions.add(5, 3))      # Output: 8\n",
    "print(math_functions.subtract(10, 4))  # Output: 6\n"
   ]
  },
  {
   "cell_type": "raw",
   "id": "54886bec-27b2-455f-9874-2bf1d41d2f40",
   "metadata": {},
   "source": [
    "\n",
    "📦 Built-in Python Modules\n",
    "\n",
    "Python comes with many ready-made modules like:\n",
    "\n",
    "\n",
    "    Modules\t                Purpose\n",
    "   ---------               --------- \n",
    "\n",
    "    math\t           Advanced mathematical functions\n",
    "    random\t           Random number generation\n",
    "    datetime\t       Date and time handling\n",
    "    os\t               Interact with the operating system\n",
    "    sys\t               System-specific parameters and functions\n"
   ]
  },
  {
   "cell_type": "code",
   "execution_count": 9,
   "id": "c1b7a021-1c9d-4833-9ed0-3c39c9678f32",
   "metadata": {},
   "outputs": [
    {
     "name": "stdout",
     "output_type": "stream",
     "text": [
      "4.0\n"
     ]
    }
   ],
   "source": [
    "# Example\n",
    "\n",
    "import math\n",
    "\n",
    "print(math.sqrt(16))  # Output: 4.0\n"
   ]
  },
  {
   "attachments": {
    "c10dbca1-e6ab-4628-ad9b-3e79d6791e99.png": {
     "image/png": "[encoded data removed]"
    }
   },
   "cell_type": "markdown",
   "id": "22af5b8b-479a-4b31-aedc-fe69b5c0487e",
   "metadata": {},
   "source": [
    "![1.png](attachment:c10dbca1-e6ab-4628-ad9b-3e79d6791e99.png)"
   ]
  },
  {
   "cell_type": "markdown",
   "id": "6c0c0adc-5f8d-482f-86ce-d0c8d7b671cf",
   "metadata": {},
   "source": [
    "🎯 Create Your Own Module\n",
    "\n",
    "Save your Python code in a .py file.\n",
    "\n",
    "Use import to access it from another file."
   ]
  },
  {
   "cell_type": "code",
   "execution_count": null,
   "id": "eb51c0e7-1883-4e9f-8035-d97215f87f5b",
   "metadata": {},
   "outputs": [],
   "source": [
    "# Example:\n",
    "\n",
    "    # greetings.py\n",
    "def welcome(name):\n",
    "    \n",
    "    return f\"Hello, {name}! Welcome!\"\n",
    "\n",
    "\n",
    "''' Now use it: '''\n",
    "\n",
    "import greetings\n",
    "\n",
    "print(greetings.welcome('John'))\n"
   ]
  },
  {
   "cell_type": "markdown",
   "id": "028b76c1-7168-4706-a9df-912f19f0af7e",
   "metadata": {},
   "source": [
    "📢 Where are Modules Stored?\n",
    "\n",
    "Python searches for modules in the current directory, and then in standard libraries.\n",
    "\n",
    "You can see the search path using:"
   ]
  },
  {
   "cell_type": "code",
   "execution_count": 21,
   "id": "31b0d441-4ec2-495a-a926-d9de36e80f96",
   "metadata": {},
   "outputs": [
    {
     "name": "stdout",
     "output_type": "stream",
     "text": [
      "['C:\\\\Users\\\\admin\\\\anaconda_projects\\\\Python', 'C:\\\\Users\\\\admin\\\\anaconda3\\\\python312.zip', 'C:\\\\Users\\\\admin\\\\anaconda3\\\\DLLs', 'C:\\\\Users\\\\admin\\\\anaconda3\\\\Lib', 'C:\\\\Users\\\\admin\\\\anaconda3', '', 'C:\\\\Users\\\\admin\\\\anaconda3\\\\Lib\\\\site-packages', 'C:\\\\Users\\\\admin\\\\anaconda3\\\\Lib\\\\site-packages\\\\win32', 'C:\\\\Users\\\\admin\\\\anaconda3\\\\Lib\\\\site-packages\\\\win32\\\\lib', 'C:\\\\Users\\\\admin\\\\anaconda3\\\\Lib\\\\site-packages\\\\Pythonwin', 'C:\\\\Users\\\\admin\\\\anaconda3\\\\Lib\\\\site-packages\\\\setuptools\\\\_vendor']\n"
     ]
    }
   ],
   "source": [
    "\n",
    "import sys\n",
    "\n",
    "print(sys.path)\n"
   ]
  },
  {
   "attachments": {
    "52210d66-934f-43e0-a58e-d867c37e84e0.png": {
     "image/png": "[encoded data removed]"
    }
   },
   "cell_type": "markdown",
   "id": "506047c7-f20e-4fd1-bfa8-35f41d86f2a3",
   "metadata": {},
   "source": [
    "![1.png](attachment:52210d66-934f-43e0-a58e-d867c37e84e0.png)"
   ]
  },
  {
   "attachments": {
    "215458f9-5f31-4ec8-966c-5f28f7409daf.png": {
     "image/png": "[encoded data removed]"
    }
   },
   "cell_type": "markdown",
   "id": "820186ee-f28c-486f-b1b2-7f2ae86811db",
   "metadata": {},
   "source": [
    "![Screenshot 2025-04-29 175614.png](attachment:215458f9-5f31-4ec8-966c-5f28f7409daf.png)"
   ]
  },
  {
   "cell_type": "markdown",
   "id": "5bab9627-2914-40bc-971f-18929f5e2b44",
   "metadata": {},
   "source": [
    "## Packages"
   ]
  },
  {
   "cell_type": "markdown",
   "id": "228b3053-4fae-4323-a1ab-1c0b444cc838",
   "metadata": {},
   "source": [
    "A package is a way of organizing related modules together in one directory.\n",
    "\n",
    "✅ In short:\n",
    "\n",
    "A Package = Folder that contains __init__.py file and one or more modules."
   ]
  },
  {
   "cell_type": "raw",
   "id": "debd5eb6-b47f-4543-bd35-87a937e4c836",
   "metadata": {},
   "source": [
    "\n",
    "📁 Example Structure of a Package:\n",
    "\n",
    "Imagine you have a package named shapes:\n",
    "\n",
    "shapes/\n",
    "│\n",
    "├── __init__.py       ← Tells Python this folder is a package\n",
    "├── circle.py         ← Module\n",
    "└── square.py         ← Module\n"
   ]
  },
  {
   "cell_type": "code",
   "execution_count": null,
   "id": "979f116b-8c9b-4730-b263-a2757d5d0d20",
   "metadata": {},
   "outputs": [],
   "source": [
    "# circle.py:\n",
    "\n",
    "def area(radius):\n",
    "    return 3.14 * radius * radius\n",
    "\n",
    "\n",
    "# square.py:\n",
    "\n",
    "def area(side):\n",
    "    return side * side\n",
    "\n",
    "\n",
    "''' Using the package in another script: '''\n",
    "\n",
    "from shapes import circle, square\n",
    "\n",
    "print(circle.area(5))    # Output: 78.5\n",
    "print(square.area(4))    # Output: 16\n",
    "    "
   ]
  },
  {
   "cell_type": "markdown",
   "id": "bef9f3bc-3ead-4631-a408-3e7d300b2b84",
   "metadata": {},
   "source": [
    "📌 What is __init__.py?\n",
    "\n",
    "It is a special Python file required to mark a directory as a package.\n",
    "\n",
    "Can be empty, or include initialization code."
   ]
  },
  {
   "cell_type": "markdown",
   "id": "6ef6c2e3-f873-4a08-bf39-1bd40d2745d4",
   "metadata": {},
   "source": [
    "✅ Creating & Using a Package (Step-by-Step)\n",
    "\n",
    "1. Create a folder for your package, e.g., mytools/\n",
    "\n",
    "2. Add an empty __init__.py file\n",
    "\n",
    "3. Add Python modules inside it\n",
    "\n",
    "4. Import and use them in your main script"
   ]
  },
  {
   "cell_type": "code",
   "execution_count": null,
   "id": "064f30d9-2541-46dc-93e2-d1e27832b5e0",
   "metadata": {},
   "outputs": [],
   "source": [
    "# Example:\n",
    "\n",
    "# Folder: mytools/\n",
    "# ├── __init__.py\n",
    "# └── string_utils.py\n",
    "\n",
    "# string_utils.py\n",
    "def shout(text):\n",
    "    return text.upper() + '!'\n",
    "\n",
    "\n",
    "# main.py\n",
    "from mytools import string_utils\n",
    "\n",
    "print(string_utils.shout(\"hello\"))  # Output: HELLO!\n"
   ]
  },
  {
   "attachments": {
    "c83799b8-7e4b-431b-92fd-1ab3acaf095f.png": {
     "image/png": "[encoded data removed]"
    }
   },
   "cell_type": "markdown",
   "id": "0b04afaa-3bcd-4af2-a4d3-8aa6732f19db",
   "metadata": {},
   "source": [
    "![Screenshot 2025-04-29 180426.png](attachment:c83799b8-7e4b-431b-92fd-1ab3acaf095f.png)"
   ]
  },
  {
   "cell_type": "raw",
   "id": "69ed2b60-c08a-4644-9c49-e74ea9f28b92",
   "metadata": {},
   "source": [
    "🔥 Advanced: Nested Packages\n",
    "\n",
    "You can also have packages inside packages, like:\n",
    "\n",
    "myapp/\n",
    "├── __init__.py\n",
    "├── data/\n",
    "│   ├── __init__.py\n",
    "│   └── loader.py\n",
    "└── utils/\n",
    "    ├── __init__.py\n",
    "    └── formatter.py\n"
   ]
  },
  {
   "cell_type": "code",
   "execution_count": null,
   "id": "193dbee3-5c88-4d65-8447-d61e5b9b29ad",
   "metadata": {},
   "outputs": [],
   "source": [
    "✅ Use:\n",
    "\n",
    "from myapp.data import loader\n",
    "from myapp.utils import formatted\n"
   ]
  },
  {
   "attachments": {
    "a6df4a65-5ea9-4dc9-8d96-d7cdd503923f.png": {
     "image/png": "[encoded data removed]"
    }
   },
   "cell_type": "markdown",
   "id": "aa618d31-90b1-4f34-a512-0367917accd2",
   "metadata": {},
   "source": [
    "![Screenshot 2025-04-29 180641.png](attachment:a6df4a65-5ea9-4dc9-8d96-d7cdd503923f.png)"
   ]
  },
  {
   "cell_type": "code",
   "execution_count": null,
   "id": "25f99442-5da9-48dc-85e2-3c1ac86b8bc7",
   "metadata": {},
   "outputs": [],
   "source": []
  }
 ],
 "metadata": {
  "kernelspec": {
   "display_name": "Python [conda env:base] *",
   "language": "python",
   "name": "conda-base-py"
  },
  "language_info": {
   "codemirror_mode": {
    "name": "ipython",
    "version": 3
   },
   "file_extension": ".py",
   "mimetype": "text/x-python",
   "name": "python",
   "nbconvert_exporter": "python",
   "pygments_lexer": "ipython3",
   "version": "3.12.7"
  }
 },
 "nbformat": 4,
 "nbformat_minor": 5
}
