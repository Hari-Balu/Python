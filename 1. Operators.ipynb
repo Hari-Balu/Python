{
 "cells": [
  {
   "cell_type": "markdown",
   "id": "3d466381-15a5-4463-bdc9-66400cb14a4a",
   "metadata": {},
   "source": [
    "# Python"
   ]
  },
  {
   "cell_type": "markdown",
   "id": "76951449-917c-4116-9426-49f1b9bfe82f",
   "metadata": {},
   "source": [
    "Python is a high-level, interpreted programming language that's known for its simplicity, readability, and versatility. It was created by Guido van Rossum and first released in 1991.\n"
   ]
  },
  {
   "cell_type": "markdown",
   "id": "8cff7d14-944b-4e8a-a37e-ed6be9e0aeed",
   "metadata": {},
   "source": [
    "### Key Features of Python:"
   ]
  },
  {
   "cell_type": "markdown",
   "id": "ffc45251-bc7c-4b94-92a3-1a8be436c741",
   "metadata": {},
   "source": [
    "- Easy to Read & Write: The syntax is clean and looks a lot like English.\n",
    "- Interpreted Language: You don't need to compile your code before running it.\n",
    "- Dynamically Typed: You don’t have to declare variable types; Python figures it out at runtime.\n",
    "- Multi-Paradigm: Supports procedural, object-oriented, and functional programming.\n",
    "- Extensive Libraries: Comes with a huge standard library and many external libraries for tasks like web development, data analysis, machine learning, automation, and more.\n",
    "- Cross-Platform: Works on Windows, macOS, Linux, and more."
   ]
  },
  {
   "cell_type": "markdown",
   "id": "1b5a1fe5-a453-452b-8304-a55761aa7d17",
   "metadata": {},
   "source": [
    "### Why Python ?"
   ]
  },
  {
   "cell_type": "markdown",
   "id": "da3c8292-5f65-4601-8a7d-af99c0f3452f",
   "metadata": {},
   "source": [
    "1. Simple and Easy to Learn\n",
    "2. Open Source\n",
    "3. Interpreter - Reads line by line\n",
    "4. High-level language — which converts human-readable to machine code\n",
    "5. Memory Management (garbage collector)"
   ]
  },
  {
   "cell_type": "markdown",
   "id": "ae959c9b-7afb-47ac-9d75-cb38fc31da93",
   "metadata": {},
   "source": [
    "### How does it work ?"
   ]
  },
  {
   "cell_type": "markdown",
   "id": "e8a51d90-222e-488e-b11a-2d3075e97688",
   "metadata": {},
   "source": [
    "1. Web Development - Django, Flask\n",
    "2. Data Science - Pandas, NumPy, Matplotlib\n",
    "3. Machine Learning & AI - Scikit Learn, TensorFlow, Keras\n",
    "4. Automation - Beautifulsoup, Selenium\n",
    "5. Gaming - Turtle, Pygame\n",
    "6. Networking - Paramiko"
   ]
  },
  {
   "cell_type": "markdown",
   "id": "609d534c-ae40-4fa9-9636-4551e591ffba",
   "metadata": {},
   "source": [
    "# Operators"
   ]
  },
  {
   "cell_type": "markdown",
   "id": "025c50a3-0fb4-486d-8f2f-9e3fa647d5f3",
   "metadata": {},
   "source": [
    "### Arithmatic operator"
   ]
  },
  {
   "cell_type": "raw",
   "id": "d654cdc3-ff5f-4895-b1eb-5611518ef507",
   "metadata": {},
   "source": [
    "+    Add\n",
    "-    subtraction\n",
    "*    multiplication\n",
    "/    Division \n",
    "%    Modulus (remainder)\n",
    "**   Exponentiation\n",
    "//   Floor division"
   ]
  },
  {
   "cell_type": "code",
   "execution_count": 18,
   "id": "fd7ff6d9-a427-4bf4-92a8-02336c88c605",
   "metadata": {},
   "outputs": [
    {
     "data": {
      "text/plain": [
       "10"
      ]
     },
     "execution_count": 18,
     "metadata": {},
     "output_type": "execute_result"
    }
   ],
   "source": [
    "# Add \n",
    "\n",
    "a = 5\n",
    "b = 5\n",
    "a + b"
   ]
  },
  {
   "cell_type": "code",
   "execution_count": 20,
   "id": "c2b1afe5-7b01-4df2-bb99-0c988397ec44",
   "metadata": {},
   "outputs": [
    {
     "data": {
      "text/plain": [
       "0"
      ]
     },
     "execution_count": 20,
     "metadata": {},
     "output_type": "execute_result"
    }
   ],
   "source": [
    "# Subtract\n",
    "\n",
    "a = 5\n",
    "b = 5\n",
    "a - b"
   ]
  },
  {
   "cell_type": "code",
   "execution_count": 22,
   "id": "982f79d5-0fe7-4821-9a98-ebe011f3655f",
   "metadata": {},
   "outputs": [
    {
     "data": {
      "text/plain": [
       "25"
      ]
     },
     "execution_count": 22,
     "metadata": {},
     "output_type": "execute_result"
    }
   ],
   "source": [
    "# Multiplication\n",
    "\n",
    "a = 5\n",
    "b = 5\n",
    "a * b"
   ]
  },
  {
   "cell_type": "code",
   "execution_count": 24,
   "id": "a0b6310c-1ef6-4cd8-b725-dcb50f5243eb",
   "metadata": {},
   "outputs": [
    {
     "data": {
      "text/plain": [
       "1.0"
      ]
     },
     "execution_count": 24,
     "metadata": {},
     "output_type": "execute_result"
    }
   ],
   "source": [
    "# Division\n",
    "\n",
    "a = 5\n",
    "b = 5\n",
    "a / b"
   ]
  },
  {
   "cell_type": "code",
   "execution_count": 34,
   "id": "4bdedc7b-aeae-4362-8a84-16c01bc84092",
   "metadata": {},
   "outputs": [
    {
     "data": {
      "text/plain": [
       "1"
      ]
     },
     "execution_count": 34,
     "metadata": {},
     "output_type": "execute_result"
    }
   ],
   "source": [
    "# Modulus (Remainder)\n",
    "\n",
    "a = 11\n",
    "b = 2\n",
    "a % b"
   ]
  },
  {
   "cell_type": "code",
   "execution_count": 36,
   "id": "ae1d9fec-522e-460e-b8a7-9b08990a68fb",
   "metadata": {},
   "outputs": [
    {
     "data": {
      "text/plain": [
       "3125"
      ]
     },
     "execution_count": 36,
     "metadata": {},
     "output_type": "execute_result"
    }
   ],
   "source": [
    "# Exponentiation (A power of B)\n",
    "\n",
    "a = 5\n",
    "b = 5\n",
    "a ** b "
   ]
  },
  {
   "cell_type": "code",
   "execution_count": 38,
   "id": "3a489d08-7cf8-4e68-b0f9-2b1693d3276c",
   "metadata": {},
   "outputs": [
    {
     "data": {
      "text/plain": [
       "1"
      ]
     },
     "execution_count": 38,
     "metadata": {},
     "output_type": "execute_result"
    }
   ],
   "source": [
    "# Floor Division (Removes Decimal)\n",
    "\n",
    "a = 5\n",
    "b = 5\n",
    "a // b"
   ]
  },
  {
   "cell_type": "markdown",
   "id": "13ed72d5-0a83-4566-9070-c6cebd4329e4",
   "metadata": {},
   "source": [
    "### Conditional Operator"
   ]
  },
  {
   "cell_type": "raw",
   "id": "76e6b3b1-cf4f-495b-a1ac-336f7eb2f363",
   "metadata": {},
   "source": [
    "==    Equal to\n",
    "!=    Not equal\n",
    ">  \t  Greater than\n",
    "<     Less than\n",
    ">=    Greater than or equal to\n",
    "<=    Less than or equal to "
   ]
  },
  {
   "cell_type": "code",
   "execution_count": 48,
   "id": "943671a3-33ee-4af4-acd6-d946dd1ab942",
   "metadata": {},
   "outputs": [
    {
     "data": {
      "text/plain": [
       "False"
      ]
     },
     "execution_count": 48,
     "metadata": {},
     "output_type": "execute_result"
    }
   ],
   "source": [
    "# Equal To\n",
    "\n",
    "a = 8\n",
    "b = 5\n",
    "a == b"
   ]
  },
  {
   "cell_type": "code",
   "execution_count": 50,
   "id": "6d47b924-4a3e-4230-80ff-ae0dd88e6ba2",
   "metadata": {},
   "outputs": [
    {
     "data": {
      "text/plain": [
       "True"
      ]
     },
     "execution_count": 50,
     "metadata": {},
     "output_type": "execute_result"
    }
   ],
   "source": [
    "# Not Equal To\n",
    "\n",
    "a = 8\n",
    "b = 5\n",
    "a != b"
   ]
  },
  {
   "cell_type": "code",
   "execution_count": 52,
   "id": "b20ddda3-571a-4de7-87ae-7572d97d6513",
   "metadata": {},
   "outputs": [
    {
     "data": {
      "text/plain": [
       "True"
      ]
     },
     "execution_count": 52,
     "metadata": {},
     "output_type": "execute_result"
    }
   ],
   "source": [
    "# Greater Than\n",
    "\n",
    "a = 8\n",
    "b = 5\n",
    "a > b"
   ]
  },
  {
   "cell_type": "code",
   "execution_count": 54,
   "id": "a02c1e57-a464-4190-b5fb-f5cbc9af917b",
   "metadata": {},
   "outputs": [
    {
     "data": {
      "text/plain": [
       "False"
      ]
     },
     "execution_count": 54,
     "metadata": {},
     "output_type": "execute_result"
    }
   ],
   "source": [
    "# Lesser Than\n",
    "\n",
    "a = 8\n",
    "b = 5\n",
    "a < b"
   ]
  },
  {
   "cell_type": "code",
   "execution_count": 56,
   "id": "c2392929-5706-4da9-9662-44f8b998d0ec",
   "metadata": {},
   "outputs": [
    {
     "data": {
      "text/plain": [
       "True"
      ]
     },
     "execution_count": 56,
     "metadata": {},
     "output_type": "execute_result"
    }
   ],
   "source": [
    "# Greater Than or equal To\n",
    "\n",
    "a = 8\n",
    "b = 5\n",
    "a >= b"
   ]
  },
  {
   "cell_type": "code",
   "execution_count": 58,
   "id": "944dcf75-da21-4a3e-8b8b-6911edd3eaf2",
   "metadata": {},
   "outputs": [
    {
     "data": {
      "text/plain": [
       "False"
      ]
     },
     "execution_count": 58,
     "metadata": {},
     "output_type": "execute_result"
    }
   ],
   "source": [
    "# Lesser Than or Equal To\n",
    "\n",
    "a = 8\n",
    "b = 5\n",
    "a <= b"
   ]
  },
  {
   "cell_type": "markdown",
   "id": "09551027-4e20-44f8-8c7f-f1a378f2d022",
   "metadata": {},
   "source": [
    "### Logical Operator"
   ]
  },
  {
   "cell_type": "raw",
   "id": "03c53f35-3d4b-419b-8d68-42c1e1f7f65e",
   "metadata": {},
   "source": [
    "AND\n",
    "OR\n",
    "NOT"
   ]
  },
  {
   "cell_type": "code",
   "execution_count": 64,
   "id": "bae40031-6a7e-4ed2-a248-ad29e0d644a9",
   "metadata": {},
   "outputs": [
    {
     "name": "stdout",
     "output_type": "stream",
     "text": [
      "False\n"
     ]
    }
   ],
   "source": [
    "# AND\n",
    "\n",
    "x = 5\n",
    "y = 10\n",
    "print(x > 3 and y < 1)"
   ]
  },
  {
   "cell_type": "code",
   "execution_count": 66,
   "id": "469f86e7-6ead-4a77-b9d1-3a06160d0cc1",
   "metadata": {},
   "outputs": [
    {
     "name": "stdout",
     "output_type": "stream",
     "text": [
      "True\n"
     ]
    }
   ],
   "source": [
    "# OR\n",
    "\n",
    "x = 5\n",
    "y = 10\n",
    "print(x > 3 or y < 15)"
   ]
  },
  {
   "cell_type": "code",
   "execution_count": 68,
   "id": "7679af01-f834-4ef8-822e-79a52b86f37c",
   "metadata": {},
   "outputs": [
    {
     "name": "stdout",
     "output_type": "stream",
     "text": [
      "True\n"
     ]
    }
   ],
   "source": [
    "# NOT\n",
    "\n",
    "x = 5\n",
    "y = 10\n",
    "print(not x > y)"
   ]
  },
  {
   "cell_type": "code",
   "execution_count": null,
   "id": "53e63d82-3a59-4cdb-a517-ec3f795af3cf",
   "metadata": {},
   "outputs": [],
   "source": []
  }
 ],
 "metadata": {
  "kernelspec": {
   "display_name": "Python [conda env:base] *",
   "language": "python",
   "name": "conda-base-py"
  },
  "language_info": {
   "codemirror_mode": {
    "name": "ipython",
    "version": 3
   },
   "file_extension": ".py",
   "mimetype": "text/x-python",
   "name": "python",
   "nbconvert_exporter": "python",
   "pygments_lexer": "ipython3",
   "version": "3.12.7"
  }
 },
 "nbformat": 4,
 "nbformat_minor": 5
}
